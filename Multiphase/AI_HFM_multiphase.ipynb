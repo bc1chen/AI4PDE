{
 "cells": [
  {
   "cell_type": "code",
   "execution_count": 2,
   "id": "926589fa",
   "metadata": {
    "colab": {
     "base_uri": "https://localhost:8080/"
    },
    "executionInfo": {
     "elapsed": 2030,
     "status": "ok",
     "timestamp": 1671026279445,
     "user": {
      "displayName": "boyang chen",
      "userId": "06142203300109756904"
     },
     "user_tz": 0
    },
    "id": "926589fa",
    "outputId": "dbc8235b-1588-4097-c66a-79ceac1efb59"
   },
   "outputs": [],
   "source": [
    "# import os\n",
    "# os.environ['TF_XLA_FLAGS'] = '--tf_xla_enable_xla_devices' ## enable xla devices\n",
    "# !nvidia-smi ## check Nvidia GPU details\n",
    "# # !nvidia-smi -L\n",
    "# # !nvidia-smi -q\n",
    "# !lscpu\n",
    "# # !lscpu |grep 'Model name' ## Check CPU details\n",
    "# # !lscpu |grep 'Number of Socket(s):'\n",
    "# # !lscpu | grep 'Core(s) each processor has/per socket:'\n",
    "# # !lscpu | grep 'Number of threads/core:'\n",
    "# !free -h --si | awk  '/Mem:/{print $2}'\n",
    "\n",
    "# # if use tpu\n",
    "# # import tensorflow as tf\n",
    "# # try:\n",
    "# #   tpu = tf.distribute.cluster_resolver.TPUClusterResolver()  # TPU detection\n",
    "# #   print('Running on TPU ', tpu.cluster_spec().as_dict()['worker'])\n",
    "# # except ValueError:\n",
    "# #   raise BaseException('ERROR: Not connected to a TPU runtime; please see the previous cell in this notebook for instructions!')\n",
    "\n",
    "# # tf.config.experimental_connect_to_cluster(tpu)\n",
    "# # tf.tpu.experimental.initialize_tpu_system(tpu)\n",
    "# # tpu_strategy = tf.distribute.TPUStrategy(tpu)"
   ]
  },
  {
   "cell_type": "code",
   "execution_count": 3,
   "id": "9cc4cc92",
   "metadata": {
    "executionInfo": {
     "elapsed": 2212,
     "status": "ok",
     "timestamp": 1671026286771,
     "user": {
      "displayName": "boyang chen",
      "userId": "06142203300109756904"
     },
     "user_tz": 0
    },
    "id": "9cc4cc92"
   },
   "outputs": [],
   "source": [
    "# Python ≥3.5 is required\n",
    "import sys\n",
    "assert sys.version_info >= (3, 5)\n",
    "\n",
    "# TensorFlow ≥2.0 is required\n",
    "import tensorflow as tf\n",
    "from tensorflow import keras\n",
    "assert tf.__version__ >= \"2.0\"\n",
    "\n",
    "# Common imports\n",
    "import numpy as np\n",
    "\n",
    "# To plot pretty figures\n",
    "%matplotlib inline\n",
    "import matplotlib as mpl\n",
    "import matplotlib.pyplot as plt\n",
    "mpl.rc('axes', labelsize=18)\n",
    "mpl.rc('xtick', labelsize=14)\n",
    "mpl.rc('ytick', labelsize=14)\n",
    "\n",
    "import math\n",
    "import time \n",
    "# from scipy.stats import multivariate_normal\n",
    "from mpl_toolkits.mplot3d import Axes3D"
   ]
  },
  {
   "cell_type": "code",
   "execution_count": 4,
   "id": "119f8a9b",
   "metadata": {
    "colab": {
     "base_uri": "https://localhost:8080/"
    },
    "executionInfo": {
     "elapsed": 485,
     "status": "ok",
     "timestamp": 1671026287253,
     "user": {
      "displayName": "boyang chen",
      "userId": "06142203300109756904"
     },
     "user_tz": 0
    },
    "id": "119f8a9b",
    "outputId": "bd1b531f-6748-4aa9-81c5-56a2cd82969a"
   },
   "outputs": [],
   "source": [
    "# import tensorflow as tf\n",
    "# tf.config.list_physical_devices()"
   ]
  },
  {
   "cell_type": "code",
   "execution_count": 5,
   "id": "0214815b",
   "metadata": {
    "colab": {
     "base_uri": "https://localhost:8080/"
    },
    "executionInfo": {
     "elapsed": 443,
     "status": "ok",
     "timestamp": 1671026289288,
     "user": {
      "displayName": "boyang chen",
      "userId": "06142203300109756904"
     },
     "user_tz": 0
    },
    "id": "0214815b",
    "outputId": "0fa1044a-2f37-456c-8977-123677112efe"
   },
   "outputs": [],
   "source": [
    "# is_gpu = len(tf.config.list_physical_devices('GPU')) > 0 \n",
    "# print(is_gpu)"
   ]
  },
  {
   "cell_type": "markdown",
   "id": "0554de9c",
   "metadata": {
    "id": "0554de9c"
   },
   "source": [
    "# CFD Parameters"
   ]
  },
  {
   "cell_type": "code",
   "execution_count": 6,
   "id": "8faaf7e5",
   "metadata": {
    "executionInfo": {
     "elapsed": 447,
     "status": "ok",
     "timestamp": 1671026312995,
     "user": {
      "displayName": "boyang chen",
      "userId": "06142203300109756904"
     },
     "user_tz": 0
    },
    "id": "8faaf7e5"
   },
   "outputs": [],
   "source": [
    "dt = 0.1\n",
    "dx = 1.0\n",
    "Re = 1 \n",
    "ub = 1\n",
    "nx = 128\n",
    "ny = 128\n",
    "nlevel = int(math.log(nx, 2)) + 1 "
   ]
  },
  {
   "cell_type": "markdown",
   "id": "2e3199f6",
   "metadata": {
    "id": "2e3199f6"
   },
   "source": [
    "# Weights of CNNs layers"
   ]
  },
  {
   "cell_type": "code",
   "execution_count": 7,
   "id": "ed02df19",
   "metadata": {
    "executionInfo": {
     "elapsed": 2,
     "status": "ok",
     "timestamp": 1671026314675,
     "user": {
      "displayName": "boyang chen",
      "userId": "06142203300109756904"
     },
     "user_tz": 0
    },
    "id": "ed02df19"
   },
   "outputs": [],
   "source": [
    "w1 = ([[[[0.25/dx**2], # Central differencing for diffusion and second-order time scheme\n",
    "         [0.5/dx**2],\n",
    "         [0.25/dx**2]],\n",
    "\n",
    "        [[0.5/dx**2],\n",
    "         [-3.0/dx**2],\n",
    "         [0.5/dx**2]],\n",
    "\n",
    "        [[0.25/dx**2],\n",
    "         [0.5/dx**2],\n",
    "         [0.25/dx**2]]]])\n",
    "\n",
    "w2 = ([[[[1/(12*dx)],  # Central differencing for y-advection and second-order time scheme\n",
    "         [0.0],\n",
    "         [-1/(12*dx)]],\n",
    "\n",
    "        [[1/(3*dx)],\n",
    "         [0.0],\n",
    "         [-1/(3*dx)]],\n",
    "\n",
    "        [[1/(12*dx)],\n",
    "         [0.0],\n",
    "         [-1/(12*dx)]]]])\n",
    "\n",
    "w3 = ([[[[-1/(12*dx)],  # Central differencing for y-advection and second-order time scheme\n",
    "         [-1/(3*dx)],\n",
    "         [-1/(12*dx)]],\n",
    "\n",
    "        [[0.0],\n",
    "         [0.0],\n",
    "         [0.0]],\n",
    "\n",
    "        [[1/(12*dx)],\n",
    "         [1/(3*dx)],\n",
    "         [1/(12*dx)]]]])\n",
    "\n",
    "w4 = ([[[[-0.25/dx**2],        # A matrix for Jacobi\n",
    "         [-0.5/dx**2],\n",
    "         [-0.25/dx**2]],\n",
    "\n",
    "        [[-0.5/dx**2],\n",
    "         [3.0/dx**2],\n",
    "         [-0.5/dx**2]],\n",
    "\n",
    "        [[-0.25/dx**2],\n",
    "         [-0.5/dx**2],\n",
    "         [-0.25/dx**2]]]])\n",
    "\n",
    "w4 = np.array(w4)\n",
    "w5 = ([[[[-1/(12*dx)],        # Continuty in u -- div(u) / dt -- central differencing\n",
    "         [0.0],\n",
    "         [1/(12*dx)]],\n",
    "\n",
    "        [[-1/(3*dx)],\n",
    "         [0.0],\n",
    "         [1/(3*dx)]],\n",
    "\n",
    "        [[-1/(12*dx)],\n",
    "         [0.0],\n",
    "         [1/(12*dx)]]]])\n",
    "\n",
    "w6 = ([[[[1/(12*dx)],        # Continuty in v -- div(v) / dt -- central differencing\n",
    "         [1/(3*dx)],\n",
    "         [1/(12*dx)]],\n",
    "\n",
    "        [[0.0],\n",
    "         [0.0],\n",
    "         [0.0]],\n",
    "\n",
    "        [[-1/(12*dx)],\n",
    "         [-1/(3*dx)],\n",
    "         [-1/(12*dx)]]]])\n",
    "\n",
    "w7 = ([[[[-1/(12*dx)],        # Pressure in u central differencing delta p * dt\n",
    "         [0.0],\n",
    "         [1/(12*dx)]],\n",
    "\n",
    "        [[-1/(3*dx)],\n",
    "         [0.0],\n",
    "         [1/(3*dx)]],\n",
    "\n",
    "        [[-1/(12*dx)],\n",
    "         [0.0],\n",
    "         [1/(12*dx)]]]])\n",
    "\n",
    "w8 = ([[[[1/(12*dx)],        # Pressure in v central differencing delta p * dt\n",
    "         [1/(3*dx)],\n",
    "         [1/(12*dx)]],\n",
    "\n",
    "        [[0.0],\n",
    "         [0.0],\n",
    "         [0.0]],\n",
    "\n",
    "        [[-1/(12*dx)],\n",
    "         [-1/(3*dx)],\n",
    "         [-1/(12*dx)]]]])\n",
    "w9 = np.zeros([1,2,2,1])\n",
    "w9[0][0][1][0] = 0.25\n",
    "w9[0][1][0][0] = 0.25\n",
    "w9[0][0][0][0] = 0.25\n",
    "w9[0][1][1][0] = 0.25\n",
    "w10 = np.ones([1,2,2,1])"
   ]
  },
  {
   "cell_type": "code",
   "execution_count": 8,
   "id": "Bp-lEgv0jtTe",
   "metadata": {
    "executionInfo": {
     "elapsed": 492,
     "status": "ok",
     "timestamp": 1671026317901,
     "user": {
      "displayName": "boyang chen",
      "userId": "06142203300109756904"
     },
     "user_tz": 0
    },
    "id": "Bp-lEgv0jtTe"
   },
   "outputs": [],
   "source": [
    "wxu = np.zeros([1,3,3,1])\n",
    "wxd = np.zeros([1,3,3,1])\n",
    "wyu = np.zeros([1,3,3,1])\n",
    "wyd = np.zeros([1,3,3,1])"
   ]
  },
  {
   "cell_type": "code",
   "execution_count": 9,
   "id": "JG85GIfojtVy",
   "metadata": {
    "executionInfo": {
     "elapsed": 1,
     "status": "ok",
     "timestamp": 1671026318730,
     "user": {
      "displayName": "boyang chen",
      "userId": "06142203300109756904"
     },
     "user_tz": 0
    },
    "id": "JG85GIfojtVy"
   },
   "outputs": [],
   "source": [
    "wxu[0][1][1][0] = 1.0\n",
    "wxu[0][1][0][0] = -1.0\n",
    "wxd[0][1][1][0] = -1.0\n",
    "wxd[0][1][2][0] = 1.0\n",
    "\n",
    "wyu[0][1][1][0] = 1.0\n",
    "wyu[0][0][1][0] = -1.0\n",
    "wyd[0][1][1][0] = -1.0\n",
    "wyd[0][2][1][0] = 1.0"
   ]
  },
  {
   "cell_type": "code",
   "execution_count": 10,
   "id": "YXH51ah8jtXz",
   "metadata": {
    "executionInfo": {
     "elapsed": 3,
     "status": "ok",
     "timestamp": 1671026319609,
     "user": {
      "displayName": "boyang chen",
      "userId": "06142203300109756904"
     },
     "user_tz": 0
    },
    "id": "YXH51ah8jtXz"
   },
   "outputs": [],
   "source": [
    "kernel_initializer_wxu = tf.keras.initializers.constant(wxu)\n",
    "kernel_initializer_wxd = tf.keras.initializers.constant(wxd)\n",
    "kernel_initializer_wyu = tf.keras.initializers.constant(wyu)\n",
    "kernel_initializer_wyd = tf.keras.initializers.constant(wyd)"
   ]
  },
  {
   "cell_type": "code",
   "execution_count": 11,
   "id": "0a59ac0b",
   "metadata": {
    "executionInfo": {
     "elapsed": 2,
     "status": "ok",
     "timestamp": 1671026321320,
     "user": {
      "displayName": "boyang chen",
      "userId": "06142203300109756904"
     },
     "user_tz": 0
    },
    "id": "0a59ac0b"
   },
   "outputs": [],
   "source": [
    "kernel_initializer_1 = tf.keras.initializers.constant(w1)\n",
    "kernel_initializer_2 = tf.keras.initializers.constant(w2)\n",
    "kernel_initializer_3 = tf.keras.initializers.constant(w3)\n",
    "kernel_initializer_4 = tf.keras.initializers.constant(w4)\n",
    "kernel_initializer_5 = tf.keras.initializers.constant(w5)\n",
    "kernel_initializer_6 = tf.keras.initializers.constant(w6)\n",
    "kernel_initializer_7 = tf.keras.initializers.constant(w7)\n",
    "kernel_initializer_8 = tf.keras.initializers.constant(w8)\n",
    "kernel_initializer_9 = tf.keras.initializers.constant(w9)\n",
    "bias_initializer = tf.keras.initializers.constant(np.zeros((1,)))"
   ]
  },
  {
   "cell_type": "markdown",
   "id": "4899326c",
   "metadata": {
    "id": "4899326c"
   },
   "source": [
    "# Libraries for solving momentum equation"
   ]
  },
  {
   "cell_type": "code",
   "execution_count": 12,
   "id": "038b30ad",
   "metadata": {
    "executionInfo": {
     "elapsed": 3555,
     "status": "ok",
     "timestamp": 1671026326873,
     "user": {
      "displayName": "boyang chen",
      "userId": "06142203300109756904"
     },
     "user_tz": 0
    },
    "id": "038b30ad"
   },
   "outputs": [],
   "source": [
    "CNN3D_central_2nd_dif = keras.models.Sequential([\n",
    "         keras.layers.InputLayer(input_shape=(nx, ny, 1)),\n",
    "         tf.keras.layers.Conv2D(1, kernel_size=3, strides=1, padding='SAME',\n",
    "                                kernel_initializer=kernel_initializer_1,\n",
    "                                bias_initializer=bias_initializer),\n",
    "])\n",
    "\n",
    "CNN3D_central_2nd_xadv = keras.models.Sequential([\n",
    "         keras.layers.InputLayer(input_shape=(nx, ny, 1)),\n",
    "         tf.keras.layers.Conv2D(1, kernel_size=3, strides=1, padding='SAME',\n",
    "                                kernel_initializer=kernel_initializer_2,\n",
    "                                bias_initializer=bias_initializer),\n",
    "])\n",
    "\n",
    "CNN3D_central_2nd_yadv = keras.models.Sequential([\n",
    "         keras.layers.InputLayer(input_shape=(nx, ny, 1)),\n",
    "         tf.keras.layers.Conv2D(1, kernel_size=3, strides=1, padding='SAME',\n",
    "                                kernel_initializer=kernel_initializer_3,\n",
    "                                bias_initializer=bias_initializer),\n",
    "])\n",
    "\n",
    "CNN3D_Su = keras.models.Sequential([\n",
    "         keras.layers.InputLayer(input_shape=(nx, ny, 1)),\n",
    "         tf.keras.layers.Conv2D(1, kernel_size=3, strides=1, padding='SAME',\n",
    "                                kernel_initializer=kernel_initializer_5,\n",
    "                                bias_initializer=bias_initializer),\n",
    "])\n",
    "\n",
    "CNN3D_Sv = keras.models.Sequential([\n",
    "         keras.layers.InputLayer(input_shape=(nx, ny, 1)),\n",
    "         tf.keras.layers.Conv2D(1, kernel_size=3, strides=1, padding='SAME',\n",
    "                                kernel_initializer=kernel_initializer_6,\n",
    "                                bias_initializer=bias_initializer),\n",
    "])\n",
    "\n",
    "CNN3D_pu = keras.models.Sequential([\n",
    "         keras.layers.InputLayer(input_shape=(nx, ny, 1)),\n",
    "         tf.keras.layers.Conv2D(1, kernel_size=3, strides=1, padding='SAME',\n",
    "                                kernel_initializer=kernel_initializer_7,\n",
    "                                bias_initializer=bias_initializer),\n",
    "])\n",
    "\n",
    "CNN3D_pv = keras.models.Sequential([\n",
    "         keras.layers.InputLayer(input_shape=(nx, ny, 1)),\n",
    "         tf.keras.layers.Conv2D(1, kernel_size=3, strides=1, padding='SAME',\n",
    "                                kernel_initializer=kernel_initializer_8,\n",
    "                                bias_initializer=bias_initializer),\n",
    "])"
   ]
  },
  {
   "cell_type": "code",
   "execution_count": 13,
   "id": "dm4CdKizlASd",
   "metadata": {
    "executionInfo": {
     "elapsed": 8,
     "status": "ok",
     "timestamp": 1671026326873,
     "user": {
      "displayName": "boyang chen",
      "userId": "06142203300109756904"
     },
     "user_tz": 0
    },
    "id": "dm4CdKizlASd"
   },
   "outputs": [],
   "source": [
    "CNN3D_wxu = keras.models.Sequential([\n",
    "         keras.layers.InputLayer(input_shape=(nx, ny, 1)),\n",
    "         tf.keras.layers.Conv2D(1, kernel_size=3, strides=1, padding='SAME',\n",
    "                                kernel_initializer=kernel_initializer_wxu,\n",
    "                                bias_initializer=bias_initializer),\n",
    "])\n",
    "\n",
    "CNN3D_wxd = keras.models.Sequential([\n",
    "         keras.layers.InputLayer(input_shape=(nx, ny, 1)),\n",
    "         tf.keras.layers.Conv2D(1, kernel_size=3, strides=1, padding='SAME',\n",
    "                                kernel_initializer=kernel_initializer_wxd,\n",
    "                                bias_initializer=bias_initializer),\n",
    "])\n",
    "\n",
    "CNN3D_wyu = keras.models.Sequential([\n",
    "         keras.layers.InputLayer(input_shape=(nx, ny, 1)),\n",
    "         tf.keras.layers.Conv2D(1, kernel_size=3, strides=1, padding='SAME',\n",
    "                                kernel_initializer=kernel_initializer_wyu,\n",
    "                                bias_initializer=bias_initializer),\n",
    "])\n",
    "\n",
    "CNN3D_wyd = keras.models.Sequential([\n",
    "         keras.layers.InputLayer(input_shape=(nx, ny, 1)),\n",
    "         tf.keras.layers.Conv2D(1, kernel_size=3, strides=1, padding='SAME',\n",
    "                                kernel_initializer=kernel_initializer_wyd,\n",
    "                                bias_initializer=bias_initializer),\n",
    "])"
   ]
  },
  {
   "cell_type": "markdown",
   "id": "9b504689",
   "metadata": {
    "id": "9b504689"
   },
   "source": [
    "# Libraries for multigrid algorithms"
   ]
  },
  {
   "cell_type": "code",
   "execution_count": 14,
   "id": "335a78e7",
   "metadata": {
    "executionInfo": {
     "elapsed": 6,
     "status": "ok",
     "timestamp": 1671026326873,
     "user": {
      "displayName": "boyang chen",
      "userId": "06142203300109756904"
     },
     "user_tz": 0
    },
    "id": "335a78e7"
   },
   "outputs": [],
   "source": [
    "for i in range(nlevel):\n",
    "    locals()['CNN3D_A_'+str(2**i)] = keras.models.Sequential([\n",
    "         keras.layers.InputLayer(input_shape=(int(ny*0.5**(nlevel-1-i)), int(nx*0.5**(nlevel-1-i)), 1)),\n",
    "         tf.keras.layers.Conv2D(1, kernel_size=3, strides=1, padding='SAME',         \n",
    "                                kernel_initializer=kernel_initializer_4,\n",
    "                                bias_initializer=bias_initializer)\n",
    "    ])"
   ]
  },
  {
   "cell_type": "code",
   "execution_count": 15,
   "id": "82eb29c7",
   "metadata": {
    "executionInfo": {
     "elapsed": 474,
     "status": "ok",
     "timestamp": 1671026420235,
     "user": {
      "displayName": "boyang chen",
      "userId": "06142203300109756904"
     },
     "user_tz": 0
    },
    "id": "82eb29c7"
   },
   "outputs": [],
   "source": [
    "for i in range(nlevel-1):\n",
    "    locals()['CNN3D_res_'+str(2**(i+1))] = keras.models.Sequential([\n",
    "         keras.layers.InputLayer(input_shape=(int(ny*0.5**(nlevel-2-i)), int(nx*0.5**(nlevel-2-i)), 1)),\n",
    "         tf.keras.layers.Conv2D(1, kernel_size=2, strides=2, padding='VALID',  # restriction\n",
    "                                kernel_initializer=kernel_initializer_9,\n",
    "                                bias_initializer=bias_initializer),   \n",
    "    ])    "
   ]
  },
  {
   "cell_type": "code",
   "execution_count": 16,
   "id": "2e2eb81e",
   "metadata": {
    "executionInfo": {
     "elapsed": 2,
     "status": "ok",
     "timestamp": 1671026422114,
     "user": {
      "displayName": "boyang chen",
      "userId": "06142203300109756904"
     },
     "user_tz": 0
    },
    "id": "2e2eb81e"
   },
   "outputs": [],
   "source": [
    "for i in range(nlevel-1):\n",
    "    locals()['CNN3D_prol_'+str(2**i)] = keras.models.Sequential([\n",
    "         keras.layers.InputLayer(input_shape=(1*2**i, 1*2**i, 1)),\n",
    "         tf.keras.layers.UpSampling2D(size=(2, 2)),\n",
    "    ])"
   ]
  },
  {
   "cell_type": "markdown",
   "id": "8e1a2144",
   "metadata": {
    "id": "8e1a2144"
   },
   "source": [
    "# Functions linking to the AI libraries"
   ]
  },
  {
   "cell_type": "code",
   "execution_count": 17,
   "id": "6efde319",
   "metadata": {
    "executionInfo": {
     "elapsed": 2,
     "status": "ok",
     "timestamp": 1671026423395,
     "user": {
      "displayName": "boyang chen",
      "userId": "06142203300109756904"
     },
     "user_tz": 0
    },
    "id": "6efde319"
   },
   "outputs": [],
   "source": [
    "def boundary_condition_velocity(values_u,values_v,nx):\n",
    "    'Define boundary conditions for velocity field'\n",
    "    tempu = tf.Variable(values_u)\n",
    "    tempv = tf.Variable(values_v)   \n",
    "    tempu[0,:,0,0].assign(tf.Variable(values_u)[0,:,1,0]) \n",
    "    tempv[0,:,0,0].assign(tf.Variable(values_v)[0,:,1,0])    \n",
    "\n",
    "    tempu[0,:,nx-1,0].assign(tf.Variable(values_u)[0,:,nx-2,0]) \n",
    "    tempv[0,:,nx-1,0].assign(tf.Variable(values_v)[0,:,nx-2,0])   \n",
    "        \n",
    "    tempu[0,0,:,0].assign(tf.Variable(values_u)[0,1,:,0])     \n",
    "    tempv[0,0,:,0].assign(tf.Variable(values_v)[0,1,:,0])  \n",
    "        \n",
    "    tempu[0,nx-1,:,0].assign(tf.Variable(values_u)[0,nx-2,:,0])      \n",
    "    tempv[0,nx-1,:,0].assign(tf.Variable(values_v)[0,nx-2,:,0])     \n",
    "    return tempu,tempv\n",
    "\n",
    "def boundary_condition_pressure(values_p,nx):\n",
    "    'Define boundary conditions for pressure field'\n",
    "    tempp = tf.Variable(values_p)   \n",
    "#     tempp[0,:,:,nx-1,0].assign(tf.Variable(tf.zeros((1,nx,nx)))[0,:]) \n",
    "    tempp[0,:,nx-1,0].assign(tf.Variable(values_p)[0,:,nx-2,0]) \n",
    "    tempp[0,:,0,0].assign(tf.Variable(values_p)[0,:,1,0])\n",
    "    \n",
    "    tempp[0,0,:,0].assign(tf.Variable(values_p)[0,1,:,0])     \n",
    "    tempp[0,nx-1,:,0].assign(tf.Variable(values_p)[0,nx-2,:,0]) \n",
    "    return tempp\n",
    "\n",
    "def boundary_condition_indicator(alpha,nx):   \n",
    "    'Define boundary conditions for scalar field'\n",
    "    tempa = tf.Variable(alpha)   \n",
    "    tempa[0,:,nx-1,0].assign(tf.Variable(alpha)[0,:,nx-2,0]) \n",
    "    tempa[0,:,0,0].assign(tf.Variable(alpha)[0,:,1,0])\n",
    "    \n",
    "    tempa[0,0,:,0].assign(tf.Variable(alpha)[0,1,:,0])     \n",
    "    tempa[0,nx-1,:,0].assign(tf.Variable(alpha)[0,nx-2,:,0]) \n",
    "    return tempa\n",
    "\n",
    "def boundary_condition_source(b,nx):  \n",
    "    'Define inflow boundary conditions for source terms to'\n",
    "    'avoid incorrect paddings caused by CNNs'\n",
    "    tempb = tf.Variable(b)   \n",
    "    tempb[0,:,0,0].assign(tf.Variable(b)[0,:,1,0])\n",
    "    return tempb\n",
    "\n",
    "def bluff_body(values_u,values_v,alpha,sigma):\n",
    "    'Immersed Boundary for buildings'\n",
    "    temp1 = values_u / (1+dt*sigma) \n",
    "    temp2 = values_v / (1+dt*sigma)\n",
    "    # temp3 = values_w / (1+dt*sigma) \n",
    "    temp4 = alpha / (1+dt*sigma)\n",
    "    return temp1,temp2,temp4\n",
    "\n",
    "def save_data(alpha,n_out,itime):\n",
    "    'Save field data'\n",
    "    if itime % n_out == 0:  \n",
    "        np.save(\"data_SK_tracer/alpha\"+str(itime), arr=alpha[0,:,:,:,0])\n",
    "        np.save(\"data_SK_tracer/v\"+str(itime), arr=values_v[0,:,:,:,0])\n",
    "        np.save(\"data_SK_tracer/w\"+str(itime), arr=values_w[0,:,:,:,0])\n",
    "        np.save(\"data_SK_tracer/p\"+str(itime), arr=values_p[0,:,:,:,0])"
   ]
  },
  {
   "cell_type": "code",
   "execution_count": 18,
   "id": "qfBgOAF-acP5",
   "metadata": {
    "executionInfo": {
     "elapsed": 374,
     "status": "ok",
     "timestamp": 1671026426121,
     "user": {
      "displayName": "boyang chen",
      "userId": "06142203300109756904"
     },
     "user_tz": 0
    },
    "id": "qfBgOAF-acP5"
   },
   "outputs": [],
   "source": [
    "def PG_turb_vector(values_u, values_v, eplsion_k):    \n",
    "    '''Turbulence modelling using Petrov-Galerkin dissipation       \n",
    "    Input\n",
    "    ---------------------------------------------------------------------\n",
    "    values_u: u-component velocity \n",
    "    values_v: v-component velocity \n",
    "    values_w: w-component velocity \n",
    "    eplsion_k: Need to sufficiently large\n",
    "    \n",
    "    Output\n",
    "    ---------------------------------------------------------------------\n",
    "    k_x: Final diffusion matrix in x direction \n",
    "    k_y: Final diffusion matrix in y direction \n",
    "    k_z: Final diffusion matrix in z direction \n",
    "    '''\n",
    "\n",
    "    k_u = 0.4 * 0.25 * abs(1/3*\n",
    "                               (abs(values_u) + abs(values_v)) * \n",
    "                               CNN3D_central_2nd_dif(values_u)) / (eplsion_k + \n",
    "                               (abs(CNN3D_central_2nd_xadv(values_u)) + \n",
    "                               abs(CNN3D_central_2nd_yadv(values_u)))/3)\n",
    "    \n",
    "    k_v = 0.4 * 0.25 * abs(1/3*\n",
    "                               (abs(values_u) + abs(values_v)) * \n",
    "                               CNN3D_central_2nd_dif(values_v)) / (eplsion_k + \n",
    "                               (abs(CNN3D_central_2nd_xadv(values_v)) + \n",
    "                               abs(CNN3D_central_2nd_yadv(values_v)))/3)\n",
    "  \n",
    "    k_u = tf.math.minimum(k_u, tf.ones(input_shape)*0.25/dt) \n",
    "    k_v = tf.math.minimum(k_v, tf.ones(input_shape)*0.25/dt)   \n",
    "    \n",
    "    k_x = 3*0.5*(k_u*CNN3D_central_2nd_dif(values_u) +\n",
    "                CNN3D_central_2nd_dif(values_u*k_u) -\n",
    "                values_u*CNN3D_central_2nd_dif(k_u))\n",
    "\n",
    "    k_y = 3*0.5*(k_v*CNN3D_central_2nd_dif(values_v) + \n",
    "                CNN3D_central_2nd_dif(values_v*k_v) -\n",
    "                values_v*CNN3D_central_2nd_dif(k_v))\n",
    "\n",
    "    return k_x, k_y"
   ]
  },
  {
   "cell_type": "code",
   "execution_count": 19,
   "id": "7e3b3f26",
   "metadata": {
    "executionInfo": {
     "elapsed": 620,
     "status": "ok",
     "timestamp": 1671029710797,
     "user": {
      "displayName": "boyang chen",
      "userId": "06142203300109756904"
     },
     "user_tz": 0
    },
    "id": "7e3b3f26"
   },
   "outputs": [],
   "source": [
    "def PG_turb_scalar(alpha, values_u, values_v, eplsion_k):    \n",
    "    '''Turbulence modelling using Petrov-Galerkin dissipation       \n",
    "    Input\n",
    "    ---------------------------------------------------------------------\n",
    "    values_u: u-component velocity \n",
    "    values_v: v-component velocity \n",
    "    values_w: w-component velocity \n",
    "    eplsion_k: Need to sufficiently large\n",
    "    \n",
    "    Output\n",
    "    ---------------------------------------------------------------------\n",
    "    k_alpha: Final diffusion matrix in x direction \n",
    "    '''\n",
    "    alpha_x = CNN3D_central_2nd_xadv(alpha)  \n",
    "    alpha_y = CNN3D_central_2nd_yadv(alpha)  \n",
    "\n",
    "    Sx = CNN3D_wxu(alpha)*CNN3D_wxd(alpha)\n",
    "    Sy = CNN3D_wyu(alpha)*CNN3D_wyd(alpha)\n",
    "\n",
    "    Sx = tf.where((tf.less(Sx,tf.zeros(input_shape))),-tf.ones(input_shape),Sx)  \n",
    "    Sy = tf.where((tf.less(Sy,tf.zeros(input_shape))),-tf.ones(input_shape),Sy)   \n",
    "\n",
    "    wx_u = -tf.math.maximum(tf.ones(input_shape)*-1, tf.math.minimum(tf.zeros(input_shape),Sx))\n",
    "    wx_d = tf.math.maximum(tf.ones(input_shape)*-1, tf.math.minimum(tf.zeros(input_shape),Sx))\n",
    "    wy_u = -tf.math.maximum(tf.ones(input_shape)*-1, tf.math.minimum(tf.zeros(input_shape),Sy))\n",
    "    wy_d = tf.math.maximum(tf.ones(input_shape)*-1, tf.math.minimum(tf.zeros(input_shape),Sy))    \n",
    "\n",
    "    scaling_x = alpha_x*(values_u*alpha_x+values_v*alpha_y)/\\\n",
    "    (eplsion_k+alpha_x**2+alpha_y**2)\n",
    "\n",
    "    scaling_y = alpha_y*(values_u*alpha_x+values_v*alpha_y)/\\\n",
    "    (eplsion_k+alpha_x**2+alpha_y**2)\n",
    " \n",
    "\n",
    "    k_u = 300*abs(1/2*(abs(values_u)+abs(values_v))*CNN3D_central_2nd_dif(alpha))/\\\n",
    "    (eplsion_k+(abs(alpha_x)+abs(alpha_y))/2)\n",
    "\n",
    "    k_d = -0.25*(values_u**2+values_v**2)/\\\n",
    "    (eplsion_k+scaling_x**2+scaling_y**2)**0.5\n",
    "\n",
    "    k_x = wx_d*k_d+wx_u*k_u\n",
    "    k_y = wy_d*k_d+wy_u*k_u\n",
    "\n",
    "    k_xf = tf.math.minimum(k_x,tf.ones(input_shape)*0.25/dt,(values_u**2+values_v**2)**0.5)\n",
    "    k_yf = tf.math.minimum(k_y,tf.ones(input_shape)*0.25/dt,(values_u**2+values_v**2)**0.5)\n",
    "\n",
    "    k_alpha = 0.5*(k_xf*CNN3D_central_2nd_dif(alpha)+\n",
    "                   CNN3D_central_2nd_dif(alpha*k_xf)-\n",
    "                   alpha*CNN3D_central_2nd_dif(k_xf))+\\\n",
    "              0.5*(k_yf*CNN3D_central_2nd_dif(alpha)+\n",
    "                   CNN3D_central_2nd_dif(alpha*k_yf)-\n",
    "                   alpha*CNN3D_central_2nd_dif(k_yf))                 \n",
    "    return k_alpha,alpha_x,alpha_y,scaling_x,scaling_y,k_u,k_d,Sx,Sy,k_x,k_y,k_xf,k_yf"
   ]
  },
  {
   "cell_type": "markdown",
   "id": "600283ce",
   "metadata": {
    "id": "600283ce"
   },
   "source": [
    "# Initialise"
   ]
  },
  {
   "cell_type": "code",
   "execution_count": 20,
   "id": "6e601369",
   "metadata": {
    "colab": {
     "base_uri": "https://localhost:8080/"
    },
    "executionInfo": {
     "elapsed": 1000,
     "status": "ok",
     "timestamp": 1671029714013,
     "user": {
      "displayName": "boyang chen",
      "userId": "06142203300109756904"
     },
     "user_tz": 0
    },
    "id": "6e601369",
    "outputId": "62f68648-966f-4db8-b70f-ab274e9294be"
   },
   "outputs": [
    {
     "name": "stdout",
     "output_type": "stream",
     "text": [
      "============== Numerical parameters ===============\n",
      "Mesh resolution: (1, 128, 128, 1)\n",
      "Time step: 1\n",
      "Initial time: 0\n",
      "Switch on scalar filed solver!\n",
      "Solving multiphase flows!\n"
     ]
    }
   ],
   "source": [
    "#################### Create field #####£###############\n",
    "input_shape = (1,nx,ny,1)\n",
    "values_u = tf.zeros(input_shape)\n",
    "values_v = tf.zeros(input_shape)\n",
    "# values_w = tf.zeros(input_shape)\n",
    "values_p = tf.zeros(input_shape)\n",
    "#######################################################\n",
    "################# Numerical parameters ################\n",
    "multi_itr = 200               # Iterations of multi-grid \n",
    "j_itr = 1                   # Iterations of Jacobi \n",
    "ntime = 1                # Time steps\n",
    "n_out = 200                 # Results output\n",
    "nrestart = 0                # Last time step for restart\n",
    "ctime_old = 0               # Last ctime for restart\n",
    "mgsolver = True             # Multigrid solver\n",
    "LSCALAR = True              # Scalar transport \n",
    "LMTI = True                 # Non density for multiphase flows\n",
    "LIBM = False                # Immersed boundary method \n",
    "nsafe = 0.5                 # Continuty equation residuals\n",
    "ctime = 0                   # Initialise ctime   \n",
    "save_fig = False             # Save results\n",
    "Restart = False             # Restart\n",
    "eplsion_k = 1e-03\n",
    "################# Physical parameters #################\n",
    "rho_l = 1000                # Density of liquid phase \n",
    "rho_g = 1.4                 # Density of gas phase \n",
    "g_x = 0;g_y = 0;g_z = -9.81   # Gravity acceleration (m/s2) \n",
    "#######################################################\n",
    "print('============== Numerical parameters ===============')\n",
    "print('Mesh resolution:', values_v.shape)\n",
    "print('Time step:', ntime)\n",
    "print('Initial time:', ctime)\n",
    "#######################################################\n",
    "################# Only for restart ####################\n",
    "if Restart == True:\n",
    "    temp1 = np.load('data_SK/u2500.npy').astype('float32')\n",
    "    temp2 = np.load('data_SK/v2500.npy').astype('float32')\n",
    "    temp3 = np.load('data_SK/w2500.npy').astype('float32')\n",
    "    temp4 = np.load('data_SK/p2500.npy').astype('float32')\n",
    "    values_u = tf.Variable(values_u)[0,:,:,:,0].assign(tf.convert_to_tensor(temp1))\n",
    "    values_v = tf.Variable(values_v)[0,:,:,:,0].assign(tf.convert_to_tensor(temp2))\n",
    "    values_w = tf.Variable(values_w)[0,:,:,:,0].assign(tf.convert_to_tensor(temp3))\n",
    "    values_p = tf.Variable(values_p)[0,:,:,:,0].assign(tf.convert_to_tensor(temp4))\n",
    "    nrestart = 2500\n",
    "    ctime_old = nrestart*dt\n",
    "    print('Restart solver!')\n",
    "#######################################################    \n",
    "################# Only for scalar #####################\n",
    "if LSCALAR == True:\n",
    "    alpha = np.zeros(input_shape).astype('float32')\n",
    "    alpha[0,44:84,44:84,0] = 1.0\n",
    "#     alpha[0,64:128,:,:,0] = 1.0\n",
    "    alpha = tf.convert_to_tensor(alpha)\n",
    "    print('Switch on scalar filed solver!')\n",
    "#######################################################\n",
    "################# Only for scalar #####################\n",
    "if LMTI == True:\n",
    "    rho = tf.zeros(input_shape)\n",
    "    rho = alpha*rho_l + (1-alpha)*rho_g\n",
    "    print('Solving multiphase flows!')\n",
    "else:\n",
    "    rho = tf.ones(input_shape)\n",
    "    print('Solving single-phase flows!')\n",
    "################# Only for IBM ########################\n",
    "if LIBM == True:\n",
    "    mesh = np.load('mesh_512_sk.npy')\n",
    "    sigma = np.zeros(input_shape).astype('float32')\n",
    "    for i in range(1,nx-1):\n",
    "        for j in range(1,ny-1):\n",
    "            for k in range(1,nz-1):\n",
    "                if mesh[0][i+64][j+64][k][0] == 0:\n",
    "                    sigma[0][k][j][i][0] = 100000  \n",
    "    sigma = tf.convert_to_tensor(sigma)\n",
    "    print('Switch on IBM solver!')\n",
    "    print('===================================================')\n",
    "    plt.imshow(sigma[0,1,:,:,0], cmap='jet')\n",
    "    plt.colorbar()\n",
    "    plt.title('South Kensington area')\n",
    "#######################################################"
   ]
  },
  {
   "cell_type": "code",
   "execution_count": 21,
   "id": "6644aae1",
   "metadata": {
    "colab": {
     "base_uri": "https://localhost:8080/",
     "height": 303
    },
    "executionInfo": {
     "elapsed": 690,
     "status": "ok",
     "timestamp": 1671029717915,
     "user": {
      "displayName": "boyang chen",
      "userId": "06142203300109756904"
     },
     "user_tz": 0
    },
    "id": "6644aae1",
    "outputId": "04e4ea89-4d73-4a30-f979-6f9d9ba40082"
   },
   "outputs": [
    {
     "data": {
      "text/plain": [
       "Text(0.5, 1.0, 'Indicator field')"
      ]
     },
     "execution_count": 21,
     "metadata": {},
     "output_type": "execute_result"
    },
    {
     "data": {
      "image/png": "[encoded data removed]",
      "text/plain": [
       "<Figure size 432x288 with 2 Axes>"
      ]
     },
     "metadata": {
      "needs_background": "light"
     },
     "output_type": "display_data"
    }
   ],
   "source": [
    "plt.imshow(alpha[0,:,:,0], cmap='jet')\n",
    "plt.colorbar()\n",
    "plt.gca().invert_yaxis()\n",
    "plt.title('Indicator field')"
   ]
  },
  {
   "cell_type": "code",
   "execution_count": 22,
   "id": "90f93bac",
   "metadata": {
    "colab": {
     "base_uri": "https://localhost:8080/",
     "height": 303
    },
    "executionInfo": {
     "elapsed": 584,
     "status": "ok",
     "timestamp": 1671029718494,
     "user": {
      "displayName": "boyang chen",
      "userId": "06142203300109756904"
     },
     "user_tz": 0
    },
    "id": "90f93bac",
    "outputId": "50224947-6e3a-4731-cc75-a89a609575dc"
   },
   "outputs": [
    {
     "data": {
      "text/plain": [
       "Text(0.5, 1.0, 'Density field')"
      ]
     },
     "execution_count": 22,
     "metadata": {},
     "output_type": "execute_result"
    },
    {
     "data": {
      "image/png": "[encoded data removed]",
      "text/plain": [
       "<Figure size 432x288 with 2 Axes>"
      ]
     },
     "metadata": {
      "needs_background": "light"
     },
     "output_type": "display_data"
    }
   ],
   "source": [
    "plt.imshow(rho[0,:,:,0], cmap='jet')\n",
    "plt.colorbar()\n",
    "plt.gca().invert_yaxis()\n",
    "plt.title('Density field')"
   ]
  },
  {
   "cell_type": "markdown",
   "id": "a53264d8",
   "metadata": {
    "id": "a53264d8"
   },
   "source": [
    "# AI-HFM Solver"
   ]
  },
  {
   "cell_type": "code",
   "execution_count": 37,
   "id": "f450d7a2",
   "metadata": {
    "colab": {
     "base_uri": "https://localhost:8080/"
    },
    "executionInfo": {
     "elapsed": 2740,
     "status": "ok",
     "timestamp": 1671029723986,
     "user": {
      "displayName": "boyang chen",
      "userId": "06142203300109756904"
     },
     "user_tz": 0
    },
    "id": "f450d7a2",
    "outputId": "f52d34d4-95c1-49e2-bd3b-2e5daa4163f0"
   },
   "outputs": [
    {
     "name": "stdout",
     "output_type": "stream",
     "text": [
      "Time step: 1\n",
      "Pressure error: 0.002949722 cty equation residual: 0.0017916857\n",
      "========================================================\n",
      "time 20.191133975982666\n"
     ]
    }
   ],
   "source": [
    "start = time.time()\n",
    "for itime in range(1,ntime+1): \n",
    "    ctime = ctime + dt \n",
    "    [values_u,values_v] = boundary_condition_velocity(values_u,values_v,nx)\n",
    "    values_p = boundary_condition_pressure(values_p,nx)\n",
    "# Momentum equation \n",
    "    [k_x,k_y] = PG_turb_vector(values_u, values_v, eplsion_k)\n",
    "    a_u = CNN3D_central_2nd_dif(values_u)/rho*dt - \\\n",
    "    values_u*CNN3D_central_2nd_xadv(values_u)*dt - \\\n",
    "    values_v*CNN3D_central_2nd_yadv(values_u)*dt  \n",
    "    b_u = 0.5*a_u + values_u\n",
    "    a_v = CNN3D_central_2nd_dif(values_v)/rho*dt - \\\n",
    "    values_u*CNN3D_central_2nd_xadv(values_v)*dt - \\\n",
    "    values_v*CNN3D_central_2nd_yadv(values_v)*dt  \n",
    "    b_v = 0.5*a_v + values_v + g_z*dt\n",
    "\n",
    "    [b_u,b_v] = boundary_condition_velocity(b_u,b_v,nx)\n",
    "    [k_x,k_y] = PG_turb_vector(b_u, b_v, eplsion_k)\n",
    "    \n",
    "    c_u = CNN3D_central_2nd_dif(b_u)/rho*dt - \\\n",
    "    b_u*CNN3D_central_2nd_xadv(b_u)*dt - \\\n",
    "    b_v*CNN3D_central_2nd_yadv(b_u)*dt \n",
    "    values_u = values_u + c_u      \n",
    "    c_v = CNN3D_central_2nd_dif(b_v)/rho*dt - \\\n",
    "    b_u*CNN3D_central_2nd_xadv(b_v)*dt - \\\n",
    "    b_v*CNN3D_central_2nd_yadv(b_v)*dt \n",
    "    values_v = values_v + c_v + g_z*dt\n",
    " \n",
    "# Passive tracer scalar transport\n",
    "    if LSCALAR == True:\n",
    "        alpha = boundary_condition_indicator(alpha,nx)\n",
    "        [k_alpha,alpha_x,alpha_y,scaling_x,scaling_y,k_u,k_d,Sx,Sy,k_x,k_y,k_xf,k_yf] = PG_turb_scalar(alpha, values_u, values_v, eplsion_k)\n",
    "        a_t = CNN3D_central_2nd_dif(alpha)*dt - \\\n",
    "        CNN3D_central_2nd_xadv(values_u*alpha)*dt - \\\n",
    "        CNN3D_central_2nd_yadv(values_v*alpha)*dt \n",
    "        alpha = alpha + a_t*0.5\n",
    "        alpha = boundary_condition_indicator(alpha,nx)\n",
    "        [k_alpha,alpha_x,alpha_y,scaling_x,scaling_y,k_u,k_d,Sx,Sy,k_x,k_y,k_xf,k_yf] = PG_turb_scalar(alpha, values_u, values_v, eplsion_k)\n",
    "        a_t = CNN3D_central_2nd_dif(alpha)*dt - \\\n",
    "        CNN3D_central_2nd_xadv(values_u*alpha)*dt - \\\n",
    "        CNN3D_central_2nd_yadv(values_v*alpha)*dt \n",
    "        alpha = alpha + a_t\n",
    "        alpha = boundary_condition_indicator(alpha,nx)\n",
    "    if LMTI == True:\n",
    "        rho = alpha*rho_l + (1-alpha)*rho_g\n",
    "# IBM\n",
    "    if LIBM == True:\n",
    "        [values_u,values_v,values_w,alpha] = bluff_body(values_u,values_v,values_w,alpha,sigma)\n",
    "# gradp            \n",
    "    values_u = values_u - CNN3D_pu(values_p)/rho*dt\n",
    "    values_v = values_v - CNN3D_pv(values_p)/rho*dt      \n",
    "    [values_u,values_v] = boundary_condition_velocity(values_u,values_v,nx)\n",
    "# possion equation (multi-grid) A*P = Su\n",
    "#     temp_rho = CNN3D_Su(1/rho) + CNN3D_Sv(1/rho)\n",
    "    b = -(CNN3D_Su(values_u) + CNN3D_Sv(values_v))*rho/dt\n",
    "#     b = boundary_condition_source(b,nx)\n",
    "    b = boundary_condition_indicator(b,nx)\n",
    "    if mgsolver == True:\n",
    "        for multi_grid in range(multi_itr): \n",
    "            w_1 = tf.zeros([1,1,1,1])\n",
    "            r = CNN3D_A_128(values_p) - b  \n",
    "#             r = tf.Variable(r)[0,:,:,nx-1,0].assign(tf.Variable(tf.zeros((1,nx,nx)))[0,:]) \n",
    "#             r_256 = CNN3D_res_512(r) \n",
    "#             r_128 = CNN3D_res_256(r_256)\n",
    "            rho_64 = CNN3D_res_128(rho) \n",
    "            rho_32 = CNN3D_res_64(rho_64) \n",
    "            rho_16 = CNN3D_res_32(rho_32) \n",
    "            rho_8 = CNN3D_res_16(rho_16) \n",
    "            rho_4 = CNN3D_res_8(rho_8) \n",
    "            rho_2 = CNN3D_res_4(rho_4) \n",
    "            rho_1 = CNN3D_res_2(rho_2)\n",
    "\n",
    "            r_64 = CNN3D_res_128(r) \n",
    "            r_32 = CNN3D_res_64(r_64) \n",
    "            r_16 = CNN3D_res_32(r_32) \n",
    "            r_8 = CNN3D_res_16(r_16) \n",
    "            r_4 = CNN3D_res_8(r_8) \n",
    "            r_2 = CNN3D_res_4(r_4) \n",
    "            r_1 = CNN3D_res_2(r_2)\n",
    "            for Jacobi in range(j_itr):\n",
    "                w_1 = (w_1 - CNN3D_A_1(w_1/rho_1)/w4[0,1,1,0] + r_1/w4[0,1,1,0])\n",
    "            w_2 = CNN3D_prol_1(w_1)             \n",
    "            for Jacobi in range(j_itr):\n",
    "                w_2 = (w_2 - CNN3D_A_2(w_2)/w4[0,1,1,0] + r_2/w4[0,1,1,0])\n",
    "            w_4 = CNN3D_prol_2(w_2) \n",
    "            for Jacobi in range(j_itr):\n",
    "                w_4 = (w_4 - CNN3D_A_4(w_4)/w4[0,1,1,0] + r_4/w4[0,1,1,0])\n",
    "            w_8 = CNN3D_prol_4(w_4) \n",
    "            for Jacobi in range(j_itr):\n",
    "                w_8 = (w_8 - CNN3D_A_8(w_8)/w4[0,1,1,0] + r_8/w4[0,1,1,0])\n",
    "            w_16 = CNN3D_prol_8(w_8) \n",
    "            for Jacobi in range(j_itr):\n",
    "                w_16 = (w_16 - CNN3D_A_16(w_16)/w4[0,1,1,0] + r_16/w4[0,1,1,0])\n",
    "            w_32 = CNN3D_prol_16(w_16) \n",
    "            for Jacobi in range(j_itr):\n",
    "                w_32 = (w_32 - CNN3D_A_32(w_32)/w4[0,1,1,0] + r_32/w4[0,1,1,0])\n",
    "            w_64 = CNN3D_prol_32(w_32) \n",
    "            for Jacobi in range(j_itr):\n",
    "                w_64 = (w_64 - CNN3D_A_64(w_64)/w4[0,1,1,0] + r_64/w4[0,1,1,0])\n",
    "            w_128 = CNN3D_prol_64(w_64) \n",
    "#             for Jacobi in range(j_itr):\n",
    "#                 w_128 = (w_128 - CNN3D_A_128(w_128)/w5[0,1,1,1,0] + r_128/w5[0,1,1,1,0] )\n",
    "#             w_256 = CNN3D_prol_128(w_128)\n",
    "#             for Jacobi in range(j_itr):\n",
    "#                 w_256 = (w_256 - CNN3D_A_256(w_256)/w5[0,1,1,1,0] + r_256/w5[0,1,1,1,0] )\n",
    "#             w_512 = CNN3D_prol_256(w_256)\n",
    "            values_p = values_p - w_128\n",
    "#             values_p = tf.Variable(values_p)[0,:,:,nx-1,0].assign(tf.Variable(tf.zeros((1,nx,nx)))[0,:])         \n",
    "            values_p = (values_p - CNN3D_A_128(values_p)/w4[0,1,1,0] + b/w4[0,1,1,0])          \n",
    "# correct\n",
    "    values_p = boundary_condition_pressure(values_p,nx)\n",
    "    values_u = values_u - CNN3D_pu(values_p)/rho*dt\n",
    "    values_v = values_v - CNN3D_pv(values_p)/rho*dt        \n",
    "    [values_u,values_v] = boundary_condition_velocity(values_u,values_v,nx)\n",
    "    if LIBM == True:\n",
    "        [values_u,values_v,values_w,alpha] = bluff_body(values_u,values_v,values_w,alpha,sigma)\n",
    "# output   \n",
    "    print('Time step:', itime) \n",
    "    print('Pressure error:', np.max(w_128), 'cty equation residual:', np.max(r))\n",
    "    print('========================================================')\n",
    "    if np.max(np.abs(w_128)) > 0.2:\n",
    "        print('Not converged !!!!!!')\n",
    "        break\n",
    "    if save_fig == True:\n",
    "        save_data(alpha,n_out,itime+nrestart)\n",
    "end = time.time()\n",
    "print('time',(end-start))"
   ]
  },
  {
   "cell_type": "code",
   "execution_count": 38,
   "id": "78218d07",
   "metadata": {
    "colab": {
     "base_uri": "https://localhost:8080/",
     "height": 303
    },
    "executionInfo": {
     "elapsed": 549,
     "status": "ok",
     "timestamp": 1671029726269,
     "user": {
      "displayName": "boyang chen",
      "userId": "06142203300109756904"
     },
     "user_tz": 0
    },
    "id": "78218d07",
    "outputId": "f4ab6a0d-f5c4-4819-f9a0-8ff9b0368f73"
   },
   "outputs": [
    {
     "data": {
      "text/plain": [
       "Text(0.5, 1.0, 'Density field')"
      ]
     },
     "execution_count": 38,
     "metadata": {},
     "output_type": "execute_result"
    },
    {
     "data": {
      "image/png": "[encoded data removed]",
      "text/plain": [
       "<Figure size 1440x576 with 4 Axes>"
      ]
     },
     "metadata": {
      "needs_background": "light"
     },
     "output_type": "display_data"
    }
   ],
   "source": [
    "plt.figure(figsize=(20, 8))\n",
    "ax1 = plt.subplot(121)\n",
    "plt.imshow(alpha[0,:,:,0], cmap='jet')\n",
    "plt.colorbar()\n",
    "plt.gca().invert_yaxis()\n",
    "plt.title('indicator field', fontsize=30)\n",
    "ax1 = plt.subplot(122)\n",
    "plt.imshow(rho[0,:,:,0], cmap='jet')\n",
    "plt.colorbar()\n",
    "plt.gca().invert_yaxis()\n",
    "plt.title('Density field', fontsize=30)"
   ]
  },
  {
   "cell_type": "code",
   "execution_count": 39,
   "id": "c07290f7",
   "metadata": {
    "colab": {
     "base_uri": "https://localhost:8080/",
     "height": 303
    },
    "executionInfo": {
     "elapsed": 6,
     "status": "ok",
     "timestamp": 1671029727025,
     "user": {
      "displayName": "boyang chen",
      "userId": "06142203300109756904"
     },
     "user_tz": 0
    },
    "id": "c07290f7",
    "outputId": "f7c5835f-fe5d-464e-dbfb-814b38ddb6c1"
   },
   "outputs": [
    {
     "data": {
      "text/plain": [
       "Text(0.5, 1.0, 'C_yi')"
      ]
     },
     "execution_count": 39,
     "metadata": {},
     "output_type": "execute_result"
    },
    {
     "data": {
      "image/png": "[encoded data removed]",
      "text/plain": [
       "<Figure size 1440x432 with 6 Axes>"
      ]
     },
     "metadata": {
      "needs_background": "light"
     },
     "output_type": "display_data"
    }
   ],
   "source": [
    "plt.figure(figsize=(20, 6))\n",
    "ax1 = plt.subplot(131)\n",
    "plt.imshow(b[0,:,:,0], cmap='jet')\n",
    "plt.colorbar()\n",
    "plt.gca().invert_yaxis()\n",
    "plt.title('Source term')\n",
    "ax1 = plt.subplot(132)\n",
    "plt.imshow((alpha_x)[0,:,:,0], cmap='jet')\n",
    "plt.colorbar()\n",
    "plt.gca().invert_yaxis()\n",
    "plt.title('C_xi')\n",
    "ax1 = plt.subplot(133)\n",
    "plt.imshow((alpha_y)[0,:,:,0], cmap='jet')\n",
    "plt.colorbar()\n",
    "plt.gca().invert_yaxis()\n",
    "plt.title('C_yi')"
   ]
  },
  {
   "cell_type": "code",
   "execution_count": 40,
   "id": "68be4763",
   "metadata": {},
   "outputs": [
    {
     "data": {
      "text/plain": [
       "Text(0.5, 1.0, 'vstar')"
      ]
     },
     "execution_count": 40,
     "metadata": {},
     "output_type": "execute_result"
    },
    {
     "data": {
      "image/png": "[encoded data removed]",
      "text/plain": [
       "<Figure size 1440x576 with 4 Axes>"
      ]
     },
     "metadata": {
      "needs_background": "light"
     },
     "output_type": "display_data"
    }
   ],
   "source": [
    "plt.figure(figsize=(20, 8))\n",
    "ax1 = plt.subplot(121)\n",
    "plt.imshow((scaling_x)[0,:,:,0], cmap='jet')\n",
    "plt.colorbar()\n",
    "plt.gca().invert_yaxis()\n",
    "plt.title('ustar')\n",
    "ax1 = plt.subplot(122)\n",
    "plt.imshow((scaling_y)[0,:,:,0], cmap='jet')\n",
    "plt.colorbar()\n",
    "plt.gca().invert_yaxis()\n",
    "plt.title('vstar')"
   ]
  },
  {
   "cell_type": "code",
   "execution_count": 41,
   "id": "61bd45fe",
   "metadata": {},
   "outputs": [
    {
     "data": {
      "text/plain": [
       "Text(0.5, 1.0, 'filter y')"
      ]
     },
     "execution_count": 41,
     "metadata": {},
     "output_type": "execute_result"
    },
    {
     "data": {
      "image/png": "[encoded data removed]",
      "text/plain": [
       "<Figure size 1440x576 with 4 Axes>"
      ]
     },
     "metadata": {
      "needs_background": "light"
     },
     "output_type": "display_data"
    }
   ],
   "source": [
    "plt.figure(figsize=(20, 8))\n",
    "ax1 = plt.subplot(121)\n",
    "plt.imshow((Sx)[0,:,:,0], cmap='jet')\n",
    "plt.colorbar()\n",
    "plt.gca().invert_yaxis()\n",
    "plt.title('filter x')\n",
    "ax1 = plt.subplot(122)\n",
    "plt.imshow((Sy)[0,:,:,0], cmap='jet')\n",
    "plt.colorbar()\n",
    "plt.gca().invert_yaxis()\n",
    "plt.title('filter y')"
   ]
  },
  {
   "cell_type": "code",
   "execution_count": 42,
   "id": "7799c08e",
   "metadata": {},
   "outputs": [
    {
     "data": {
      "text/plain": [
       "Text(0.5, 1.0, 'k-')"
      ]
     },
     "execution_count": 42,
     "metadata": {},
     "output_type": "execute_result"
    },
    {
     "data": {
      "image/png": "[encoded data removed]",
      "text/plain": [
       "<Figure size 1440x576 with 4 Axes>"
      ]
     },
     "metadata": {
      "needs_background": "light"
     },
     "output_type": "display_data"
    }
   ],
   "source": [
    "plt.figure(figsize=(20, 8))\n",
    "ax1 = plt.subplot(121)\n",
    "plt.imshow((k_u)[0,:,:,0], cmap='jet')\n",
    "plt.colorbar()\n",
    "plt.gca().invert_yaxis()\n",
    "plt.title('k+')\n",
    "ax1 = plt.subplot(122)\n",
    "plt.imshow((k_d)[0,:,:,0], cmap='jet')\n",
    "plt.colorbar()\n",
    "plt.gca().invert_yaxis()\n",
    "plt.title('k-')"
   ]
  },
  {
   "cell_type": "code",
   "execution_count": 43,
   "id": "f30386b7",
   "metadata": {},
   "outputs": [
    {
     "data": {
      "text/plain": [
       "Text(0.5, 1.0, 'final ky')"
      ]
     },
     "execution_count": 43,
     "metadata": {},
     "output_type": "execute_result"
    },
    {
     "data": {
      "image/png": "[encoded data removed]",
      "text/plain": [
       "<Figure size 1440x1440 with 8 Axes>"
      ]
     },
     "metadata": {
      "needs_background": "light"
     },
     "output_type": "display_data"
    }
   ],
   "source": [
    "plt.figure(figsize=(20, 20))\n",
    "ax1 = plt.subplot(221)\n",
    "plt.imshow((k_x)[0,:,:,0], cmap='jet')\n",
    "plt.colorbar()\n",
    "plt.gca().invert_yaxis()\n",
    "plt.title('kx')\n",
    "ax1 = plt.subplot(222)\n",
    "plt.imshow((k_y)[0,:,:,0], cmap='jet')\n",
    "plt.colorbar()\n",
    "plt.gca().invert_yaxis()\n",
    "plt.title('ky')\n",
    "ax1 = plt.subplot(223)\n",
    "plt.imshow((k_xf)[0,:,:,0], cmap='jet')\n",
    "plt.colorbar()\n",
    "plt.gca().invert_yaxis()\n",
    "plt.title('final kx')\n",
    "ax1 = plt.subplot(224)\n",
    "plt.imshow((k_yf)[0,:,:,0], cmap='jet')\n",
    "plt.colorbar()\n",
    "plt.gca().invert_yaxis()\n",
    "plt.title('final ky')"
   ]
  },
  {
   "cell_type": "code",
   "execution_count": 44,
   "id": "544724ec",
   "metadata": {},
   "outputs": [
    {
     "data": {
      "text/plain": [
       "Text(0.5, 1.0, 'v-component velocity')"
      ]
     },
     "execution_count": 44,
     "metadata": {},
     "output_type": "execute_result"
    },
    {
     "data": {
      "image/png": "[encoded data removed]",
      "text/plain": [
       "<Figure size 432x288 with 2 Axes>"
      ]
     },
     "metadata": {
      "needs_background": "light"
     },
     "output_type": "display_data"
    }
   ],
   "source": [
    "plt.imshow((k_alpha)[0,:,:,0], cmap='jet')\n",
    "plt.colorbar()\n",
    "# plt.axis('off')\n",
    "\n",
    "plt.gca().invert_yaxis()\n",
    "plt.title('v-component velocity')"
   ]
  },
  {
   "cell_type": "code",
   "execution_count": 45,
   "id": "e5c8a06e",
   "metadata": {
    "colab": {
     "base_uri": "https://localhost:8080/",
     "height": 303
    },
    "executionInfo": {
     "elapsed": 1148,
     "status": "ok",
     "timestamp": 1671028812281,
     "user": {
      "displayName": "boyang chen",
      "userId": "06142203300109756904"
     },
     "user_tz": 0
    },
    "id": "e5c8a06e",
    "outputId": "71da347d-8e4a-4f43-dd91-a3184ae220a4"
   },
   "outputs": [
    {
     "data": {
      "text/plain": [
       "Text(0.5, 1.0, 'v-component velocity')"
      ]
     },
     "execution_count": 45,
     "metadata": {},
     "output_type": "execute_result"
    },
    {
     "data": {
      "image/png": "[encoded data removed]",
      "text/plain": [
       "<Figure size 432x288 with 2 Axes>"
      ]
     },
     "metadata": {
      "needs_background": "light"
     },
     "output_type": "display_data"
    }
   ],
   "source": [
    "plt.imshow((values_v)[0,:,:,0], cmap='jet')\n",
    "plt.colorbar()\n",
    "plt.axis('off')\n",
    "\n",
    "plt.gca().invert_yaxis()\n",
    "plt.title('v-component velocity')"
   ]
  },
  {
   "cell_type": "code",
   "execution_count": 46,
   "id": "46655d3f",
   "metadata": {
    "colab": {
     "base_uri": "https://localhost:8080/",
     "height": 282
    },
    "executionInfo": {
     "elapsed": 372,
     "status": "ok",
     "timestamp": 1670976396200,
     "user": {
      "displayName": "boyang chen",
      "userId": "06142203300109756904"
     },
     "user_tz": 0
    },
    "id": "46655d3f",
    "outputId": "9d0c682a-fd5c-4499-f407-78fad44baba1"
   },
   "outputs": [
    {
     "data": {
      "text/plain": [
       "Text(0.5, 1.0, 'u-component velocity')"
      ]
     },
     "execution_count": 46,
     "metadata": {},
     "output_type": "execute_result"
    },
    {
     "data": {
      "image/png": "[encoded data removed]",
      "text/plain": [
       "<Figure size 432x288 with 2 Axes>"
      ]
     },
     "metadata": {
      "needs_background": "light"
     },
     "output_type": "display_data"
    }
   ],
   "source": [
    "plt.imshow((values_u)[0,:,:,0], cmap='jet')\n",
    "plt.colorbar()\n",
    "plt.axis('off')\n",
    "\n",
    "plt.gca().invert_yaxis()\n",
    "\n",
    "plt.title('u-component velocity')"
   ]
  },
  {
   "cell_type": "code",
   "execution_count": 47,
   "id": "e7b5f797",
   "metadata": {
    "colab": {
     "base_uri": "https://localhost:8080/",
     "height": 291
    },
    "executionInfo": {
     "elapsed": 400,
     "status": "ok",
     "timestamp": 1670976399008,
     "user": {
      "displayName": "boyang chen",
      "userId": "06142203300109756904"
     },
     "user_tz": 0
    },
    "id": "e7b5f797",
    "outputId": "86c52739-a596-44cc-fd98-3ee4223cf891"
   },
   "outputs": [
    {
     "data": {
      "text/plain": [
       "Text(0.5, 1.0, 'Pressure at central xy plane')"
      ]
     },
     "execution_count": 47,
     "metadata": {},
     "output_type": "execute_result"
    },
    {
     "data": {
      "image/png": "[encoded data removed]",
      "text/plain": [
       "<Figure size 432x288 with 2 Axes>"
      ]
     },
     "metadata": {
      "needs_background": "light"
     },
     "output_type": "display_data"
    }
   ],
   "source": [
    "plt.imshow((-values_p)[0,:,:,0], cmap='jet')\n",
    "plt.colorbar()\n",
    "plt.axis('off')\n",
    "plt.gca().invert_yaxis()\n",
    "\n",
    "plt.title('Pressure at central xy plane')"
   ]
  },
  {
   "cell_type": "code",
   "execution_count": 48,
   "id": "C9WqnYciPpll",
   "metadata": {
    "executionInfo": {
     "elapsed": 479,
     "status": "ok",
     "timestamp": 1670976403614,
     "user": {
      "displayName": "boyang chen",
      "userId": "06142203300109756904"
     },
     "user_tz": 0
    },
    "id": "C9WqnYciPpll"
   },
   "outputs": [],
   "source": [
    "vel = (values_u**2+values_v**2)**0.5"
   ]
  },
  {
   "cell_type": "code",
   "execution_count": 49,
   "id": "8PE560yO2zAE",
   "metadata": {
    "colab": {
     "base_uri": "https://localhost:8080/",
     "height": 289
    },
    "executionInfo": {
     "elapsed": 493,
     "status": "ok",
     "timestamp": 1670976405082,
     "user": {
      "displayName": "boyang chen",
      "userId": "06142203300109756904"
     },
     "user_tz": 0
    },
    "id": "8PE560yO2zAE",
    "outputId": "4282562a-adef-4b73-cfb8-97b13d00a551"
   },
   "outputs": [
    {
     "data": {
      "text/plain": [
       "Text(0.5, 1.0, 'u-component velocity')"
      ]
     },
     "execution_count": 49,
     "metadata": {},
     "output_type": "execute_result"
    },
    {
     "data": {
      "image/png": "[encoded data removed]",
      "text/plain": [
       "<Figure size 432x288 with 2 Axes>"
      ]
     },
     "metadata": {
      "needs_background": "light"
     },
     "output_type": "display_data"
    }
   ],
   "source": [
    "plt.imshow((vel)[0,:,:,0], cmap='jet')\n",
    "plt.colorbar()\n",
    "plt.axis('off')\n",
    "\n",
    "plt.gca().invert_yaxis()\n",
    "\n",
    "plt.title('u-component velocity')"
   ]
  },
  {
   "cell_type": "code",
   "execution_count": null,
   "id": "c6b9ac0e",
   "metadata": {},
   "outputs": [],
   "source": []
  }
 ],
 "metadata": {
  "accelerator": "GPU",
  "colab": {
   "provenance": []
  },
  "gpuClass": "standard",
  "kernelspec": {
   "display_name": "Python 3",
   "language": "python",
   "name": "python3"
  },
  "language_info": {
   "codemirror_mode": {
    "name": "ipython",
    "version": 3
   },
   "file_extension": ".py",
   "mimetype": "text/x-python",
   "name": "python",
   "nbconvert_exporter": "python",
   "pygments_lexer": "ipython3",
   "version": "3.7.12"
  }
 },
 "nbformat": 4,
 "nbformat_minor": 5
}
