{
 "cells": [
  {
   "cell_type": "code",
   "execution_count": 1,
   "id": "9cc4cc92",
   "metadata": {
    "executionInfo": {
     "elapsed": 2212,
     "status": "ok",
     "timestamp": 1671026286771,
     "user": {
      "displayName": "boyang chen",
      "userId": "06142203300109756904"
     },
     "user_tz": 0
    },
    "id": "9cc4cc92"
   },
   "outputs": [],
   "source": [
    "# Python ≥3.5 is required\n",
    "import sys\n",
    "assert sys.version_info >= (3, 5)\n",
    "\n",
    "# TensorFlow ≥2.0 is required\n",
    "import tensorflow as tf\n",
    "from tensorflow import keras\n",
    "assert tf.__version__ >= \"2.0\"\n",
    "\n",
    "# Common imports\n",
    "import numpy as np\n",
    "\n",
    "# To plot pretty figures\n",
    "%matplotlib inline\n",
    "import matplotlib as mpl\n",
    "import matplotlib.pyplot as plt\n",
    "mpl.rc('axes', labelsize=18)\n",
    "mpl.rc('xtick', labelsize=14)\n",
    "mpl.rc('ytick', labelsize=14)\n",
    "\n",
    "import math\n",
    "import time \n",
    "# from scipy.stats import multivariate_normal\n",
    "from mpl_toolkits.mplot3d import Axes3D"
   ]
  },
  {
   "cell_type": "markdown",
   "id": "0554de9c",
   "metadata": {
    "id": "0554de9c"
   },
   "source": [
    "# CFD Parameters"
   ]
  },
  {
   "cell_type": "code",
   "execution_count": 2,
   "id": "8faaf7e5",
   "metadata": {
    "executionInfo": {
     "elapsed": 447,
     "status": "ok",
     "timestamp": 1671026312995,
     "user": {
      "displayName": "boyang chen",
      "userId": "06142203300109756904"
     },
     "user_tz": 0
    },
    "id": "8faaf7e5"
   },
   "outputs": [],
   "source": [
    "dt = 0.1\n",
    "dx = 1.0\n",
    "Re = 1 \n",
    "ub = 1\n",
    "nx = 128\n",
    "ny = 128\n",
    "nlevel = int(math.log(nx, 2)) + 1 "
   ]
  },
  {
   "cell_type": "markdown",
   "id": "2e3199f6",
   "metadata": {
    "id": "2e3199f6"
   },
   "source": [
    "# Weights of CNNs layers"
   ]
  },
  {
   "cell_type": "code",
   "execution_count": 3,
   "id": "ed02df19",
   "metadata": {
    "executionInfo": {
     "elapsed": 2,
     "status": "ok",
     "timestamp": 1671026314675,
     "user": {
      "displayName": "boyang chen",
      "userId": "06142203300109756904"
     },
     "user_tz": 0
    },
    "id": "ed02df19"
   },
   "outputs": [],
   "source": [
    "w1 = ([[[[0.25/dx**2], # Central differencing for diffusion and second-order time scheme\n",
    "         [0.5/dx**2],\n",
    "         [0.25/dx**2]],\n",
    "\n",
    "        [[0.5/dx**2],\n",
    "         [-3.0/dx**2],\n",
    "         [0.5/dx**2]],\n",
    "\n",
    "        [[0.25/dx**2],\n",
    "         [0.5/dx**2],\n",
    "         [0.25/dx**2]]]])\n",
    "\n",
    "w2 = ([[[[1/(12*dx)],  # Central differencing for y-advection and second-order time scheme\n",
    "         [0.0],\n",
    "         [-1/(12*dx)]],\n",
    "\n",
    "        [[1/(3*dx)],\n",
    "         [0.0],\n",
    "         [-1/(3*dx)]],\n",
    "\n",
    "        [[1/(12*dx)],\n",
    "         [0.0],\n",
    "         [-1/(12*dx)]]]])\n",
    "\n",
    "w3 = ([[[[-1/(12*dx)],  # Central differencing for y-advection and second-order time scheme\n",
    "         [-1/(3*dx)],\n",
    "         [-1/(12*dx)]],\n",
    "\n",
    "        [[0.0],\n",
    "         [0.0],\n",
    "         [0.0]],\n",
    "\n",
    "        [[1/(12*dx)],\n",
    "         [1/(3*dx)],\n",
    "         [1/(12*dx)]]]])\n",
    "\n",
    "w4 = ([[[[-0.25/dx**2],        # A matrix for Jacobi\n",
    "         [-0.5/dx**2],\n",
    "         [-0.25/dx**2]],\n",
    "\n",
    "        [[-0.5/dx**2],\n",
    "         [3.0/dx**2],\n",
    "         [-0.5/dx**2]],\n",
    "\n",
    "        [[-0.25/dx**2],\n",
    "         [-0.5/dx**2],\n",
    "         [-0.25/dx**2]]]])\n",
    "\n",
    "w4 = np.array(w4)\n",
    "w5 = ([[[[-1/(12*dx)],        # Continuty in u -- div(u) / dt -- central differencing\n",
    "         [0.0],\n",
    "         [1/(12*dx)]],\n",
    "\n",
    "        [[-1/(3*dx)],\n",
    "         [0.0],\n",
    "         [1/(3*dx)]],\n",
    "\n",
    "        [[-1/(12*dx)],\n",
    "         [0.0],\n",
    "         [1/(12*dx)]]]])\n",
    "\n",
    "w6 = ([[[[1/(12*dx)],        # Continuty in v -- div(v) / dt -- central differencing\n",
    "         [1/(3*dx)],\n",
    "         [1/(12*dx)]],\n",
    "\n",
    "        [[0.0],\n",
    "         [0.0],\n",
    "         [0.0]],\n",
    "\n",
    "        [[-1/(12*dx)],\n",
    "         [-1/(3*dx)],\n",
    "         [-1/(12*dx)]]]])\n",
    "\n",
    "w7 = ([[[[-1/(12*dx)],        # Pressure in u central differencing delta p * dt\n",
    "         [0.0],\n",
    "         [1/(12*dx)]],\n",
    "\n",
    "        [[-1/(3*dx)],\n",
    "         [0.0],\n",
    "         [1/(3*dx)]],\n",
    "\n",
    "        [[-1/(12*dx)],\n",
    "         [0.0],\n",
    "         [1/(12*dx)]]]])\n",
    "\n",
    "w8 = ([[[[1/(12*dx)],        # Pressure in v central differencing delta p * dt\n",
    "         [1/(3*dx)],\n",
    "         [1/(12*dx)]],\n",
    "\n",
    "        [[0.0],\n",
    "         [0.0],\n",
    "         [0.0]],\n",
    "\n",
    "        [[-1/(12*dx)],\n",
    "         [-1/(3*dx)],\n",
    "         [-1/(12*dx)]]]])\n",
    "w9 = np.zeros([1,2,2,1])\n",
    "w9[0][0][1][0] = 0.25\n",
    "w9[0][1][0][0] = 0.25\n",
    "w9[0][0][0][0] = 0.25\n",
    "w9[0][1][1][0] = 0.25\n",
    "w10 = np.ones([1,2,2,1])"
   ]
  },
  {
   "cell_type": "code",
   "execution_count": 4,
   "id": "Bp-lEgv0jtTe",
   "metadata": {
    "executionInfo": {
     "elapsed": 492,
     "status": "ok",
     "timestamp": 1671026317901,
     "user": {
      "displayName": "boyang chen",
      "userId": "06142203300109756904"
     },
     "user_tz": 0
    },
    "id": "Bp-lEgv0jtTe"
   },
   "outputs": [],
   "source": [
    "wxu = np.zeros([1,3,3,1])\n",
    "wxd = np.zeros([1,3,3,1])\n",
    "wyu = np.zeros([1,3,3,1])\n",
    "wyd = np.zeros([1,3,3,1])"
   ]
  },
  {
   "cell_type": "code",
   "execution_count": 5,
   "id": "JG85GIfojtVy",
   "metadata": {
    "executionInfo": {
     "elapsed": 1,
     "status": "ok",
     "timestamp": 1671026318730,
     "user": {
      "displayName": "boyang chen",
      "userId": "06142203300109756904"
     },
     "user_tz": 0
    },
    "id": "JG85GIfojtVy"
   },
   "outputs": [],
   "source": [
    "wxu[0][1][1][0] = 1.0\n",
    "wxu[0][1][0][0] = -1.0\n",
    "wxd[0][1][1][0] = -1.0\n",
    "wxd[0][1][2][0] = 1.0\n",
    "\n",
    "wyu[0][1][1][0] = 1.0\n",
    "wyu[0][0][1][0] = -1.0\n",
    "wyd[0][1][1][0] = -1.0\n",
    "wyd[0][2][1][0] = 1.0"
   ]
  },
  {
   "cell_type": "code",
   "execution_count": 6,
   "id": "23d6ae68",
   "metadata": {},
   "outputs": [],
   "source": [
    "w_c = np.zeros([1,3,3,1])\n",
    "w_c[0][1][1][0] = 1\n",
    "kernel_initializer_c = tf.keras.initializers.constant(w_c)"
   ]
  },
  {
   "cell_type": "code",
   "execution_count": 7,
   "id": "YXH51ah8jtXz",
   "metadata": {
    "executionInfo": {
     "elapsed": 3,
     "status": "ok",
     "timestamp": 1671026319609,
     "user": {
      "displayName": "boyang chen",
      "userId": "06142203300109756904"
     },
     "user_tz": 0
    },
    "id": "YXH51ah8jtXz"
   },
   "outputs": [],
   "source": [
    "kernel_initializer_wxu = tf.keras.initializers.constant(wxu)\n",
    "kernel_initializer_wxd = tf.keras.initializers.constant(wxd)\n",
    "kernel_initializer_wyu = tf.keras.initializers.constant(wyu)\n",
    "kernel_initializer_wyd = tf.keras.initializers.constant(wyd)"
   ]
  },
  {
   "cell_type": "code",
   "execution_count": 8,
   "id": "0a59ac0b",
   "metadata": {
    "executionInfo": {
     "elapsed": 2,
     "status": "ok",
     "timestamp": 1671026321320,
     "user": {
      "displayName": "boyang chen",
      "userId": "06142203300109756904"
     },
     "user_tz": 0
    },
    "id": "0a59ac0b"
   },
   "outputs": [],
   "source": [
    "kernel_initializer_1 = tf.keras.initializers.constant(w1)\n",
    "kernel_initializer_2 = tf.keras.initializers.constant(w2)\n",
    "kernel_initializer_3 = tf.keras.initializers.constant(w3)\n",
    "kernel_initializer_4 = tf.keras.initializers.constant(w4)\n",
    "kernel_initializer_5 = tf.keras.initializers.constant(w5)\n",
    "kernel_initializer_6 = tf.keras.initializers.constant(w6)\n",
    "kernel_initializer_7 = tf.keras.initializers.constant(w7)\n",
    "kernel_initializer_8 = tf.keras.initializers.constant(w8)\n",
    "kernel_initializer_9 = tf.keras.initializers.constant(w9)\n",
    "bias_initializer = tf.keras.initializers.constant(np.zeros((1,)))"
   ]
  },
  {
   "cell_type": "markdown",
   "id": "4899326c",
   "metadata": {
    "id": "4899326c"
   },
   "source": [
    "# Libraries for solving momentum equation"
   ]
  },
  {
   "cell_type": "code",
   "execution_count": 9,
   "id": "038b30ad",
   "metadata": {
    "executionInfo": {
     "elapsed": 3555,
     "status": "ok",
     "timestamp": 1671026326873,
     "user": {
      "displayName": "boyang chen",
      "userId": "06142203300109756904"
     },
     "user_tz": 0
    },
    "id": "038b30ad"
   },
   "outputs": [],
   "source": [
    "CNN3D_central_2nd_dif = keras.models.Sequential([\n",
    "         keras.layers.InputLayer(input_shape=(nx, ny, 1)),\n",
    "         tf.keras.layers.Conv2D(1, kernel_size=3, strides=1, padding='SAME',\n",
    "                                kernel_initializer=kernel_initializer_1,\n",
    "                                bias_initializer=bias_initializer),\n",
    "])\n",
    "\n",
    "CNN3D_central_2nd_xadv = keras.models.Sequential([\n",
    "         keras.layers.InputLayer(input_shape=(nx, ny, 1)),\n",
    "         tf.keras.layers.Conv2D(1, kernel_size=3, strides=1, padding='SAME',\n",
    "                                kernel_initializer=kernel_initializer_2,\n",
    "                                bias_initializer=bias_initializer),\n",
    "])\n",
    "\n",
    "CNN3D_central_2nd_yadv = keras.models.Sequential([\n",
    "         keras.layers.InputLayer(input_shape=(nx, ny, 1)),\n",
    "         tf.keras.layers.Conv2D(1, kernel_size=3, strides=1, padding='SAME',\n",
    "                                kernel_initializer=kernel_initializer_3,\n",
    "                                bias_initializer=bias_initializer),\n",
    "])\n",
    "\n",
    "CNN3D_Su = keras.models.Sequential([\n",
    "         keras.layers.InputLayer(input_shape=(nx, ny, 1)),\n",
    "         tf.keras.layers.Conv2D(1, kernel_size=3, strides=1, padding='SAME',\n",
    "                                kernel_initializer=kernel_initializer_5,\n",
    "                                bias_initializer=bias_initializer),\n",
    "])\n",
    "\n",
    "CNN3D_Sv = keras.models.Sequential([\n",
    "         keras.layers.InputLayer(input_shape=(nx, ny, 1)),\n",
    "         tf.keras.layers.Conv2D(1, kernel_size=3, strides=1, padding='SAME',\n",
    "                                kernel_initializer=kernel_initializer_6,\n",
    "                                bias_initializer=bias_initializer),\n",
    "])\n",
    "\n",
    "CNN3D_pu = keras.models.Sequential([\n",
    "         keras.layers.InputLayer(input_shape=(nx, ny, 1)),\n",
    "         tf.keras.layers.Conv2D(1, kernel_size=3, strides=1, padding='SAME',\n",
    "                                kernel_initializer=kernel_initializer_7,\n",
    "                                bias_initializer=bias_initializer),\n",
    "])\n",
    "\n",
    "CNN3D_pv = keras.models.Sequential([\n",
    "         keras.layers.InputLayer(input_shape=(nx, ny, 1)),\n",
    "         tf.keras.layers.Conv2D(1, kernel_size=3, strides=1, padding='SAME',\n",
    "                                kernel_initializer=kernel_initializer_8,\n",
    "                                bias_initializer=bias_initializer),\n",
    "])"
   ]
  },
  {
   "cell_type": "code",
   "execution_count": 10,
   "id": "dm4CdKizlASd",
   "metadata": {
    "executionInfo": {
     "elapsed": 8,
     "status": "ok",
     "timestamp": 1671026326873,
     "user": {
      "displayName": "boyang chen",
      "userId": "06142203300109756904"
     },
     "user_tz": 0
    },
    "id": "dm4CdKizlASd"
   },
   "outputs": [],
   "source": [
    "CNN3D_wxu = keras.models.Sequential([\n",
    "         keras.layers.InputLayer(input_shape=(nx, ny, 1)),\n",
    "         tf.keras.layers.Conv2D(1, kernel_size=3, strides=1, padding='SAME',\n",
    "                                kernel_initializer=kernel_initializer_wxu,\n",
    "                                bias_initializer=bias_initializer),\n",
    "])\n",
    "\n",
    "CNN3D_wxd = keras.models.Sequential([\n",
    "         keras.layers.InputLayer(input_shape=(nx, ny, 1)),\n",
    "         tf.keras.layers.Conv2D(1, kernel_size=3, strides=1, padding='SAME',\n",
    "                                kernel_initializer=kernel_initializer_wxd,\n",
    "                                bias_initializer=bias_initializer),\n",
    "])\n",
    "\n",
    "CNN3D_wyu = keras.models.Sequential([\n",
    "         keras.layers.InputLayer(input_shape=(nx, ny, 1)),\n",
    "         tf.keras.layers.Conv2D(1, kernel_size=3, strides=1, padding='SAME',\n",
    "                                kernel_initializer=kernel_initializer_wyu,\n",
    "                                bias_initializer=bias_initializer),\n",
    "])\n",
    "\n",
    "CNN3D_wyd = keras.models.Sequential([\n",
    "         keras.layers.InputLayer(input_shape=(nx, ny, 1)),\n",
    "         tf.keras.layers.Conv2D(1, kernel_size=3, strides=1, padding='SAME',\n",
    "                                kernel_initializer=kernel_initializer_wyd,\n",
    "                                bias_initializer=bias_initializer),\n",
    "])"
   ]
  },
  {
   "cell_type": "markdown",
   "id": "9b504689",
   "metadata": {
    "id": "9b504689"
   },
   "source": [
    "# Libraries for multigrid algorithms"
   ]
  },
  {
   "cell_type": "code",
   "execution_count": 11,
   "id": "335a78e7",
   "metadata": {
    "executionInfo": {
     "elapsed": 6,
     "status": "ok",
     "timestamp": 1671026326873,
     "user": {
      "displayName": "boyang chen",
      "userId": "06142203300109756904"
     },
     "user_tz": 0
    },
    "id": "335a78e7"
   },
   "outputs": [],
   "source": [
    "for i in range(nlevel):\n",
    "    locals()['CNN3D_A_'+str(2**i)] = keras.models.Sequential([\n",
    "         keras.layers.InputLayer(input_shape=(int(ny*0.5**(nlevel-1-i)), int(nx*0.5**(nlevel-1-i)), 1)),\n",
    "         tf.keras.layers.Conv2D(1, kernel_size=3, strides=1, padding='SAME',         \n",
    "                                kernel_initializer=kernel_initializer_4,\n",
    "                                bias_initializer=bias_initializer)\n",
    "    ])"
   ]
  },
  {
   "cell_type": "code",
   "execution_count": 12,
   "id": "82eb29c7",
   "metadata": {
    "executionInfo": {
     "elapsed": 474,
     "status": "ok",
     "timestamp": 1671026420235,
     "user": {
      "displayName": "boyang chen",
      "userId": "06142203300109756904"
     },
     "user_tz": 0
    },
    "id": "82eb29c7"
   },
   "outputs": [],
   "source": [
    "for i in range(nlevel-1):\n",
    "    locals()['CNN3D_res_'+str(2**(i+1))] = keras.models.Sequential([\n",
    "         keras.layers.InputLayer(input_shape=(int(ny*0.5**(nlevel-2-i)), int(nx*0.5**(nlevel-2-i)), 1)),\n",
    "         tf.keras.layers.Conv2D(1, kernel_size=2, strides=2, padding='VALID',  # restriction\n",
    "                                kernel_initializer=kernel_initializer_9,\n",
    "                                bias_initializer=bias_initializer),   \n",
    "    ])    "
   ]
  },
  {
   "cell_type": "code",
   "execution_count": 13,
   "id": "2e2eb81e",
   "metadata": {
    "executionInfo": {
     "elapsed": 2,
     "status": "ok",
     "timestamp": 1671026422114,
     "user": {
      "displayName": "boyang chen",
      "userId": "06142203300109756904"
     },
     "user_tz": 0
    },
    "id": "2e2eb81e"
   },
   "outputs": [],
   "source": [
    "for i in range(nlevel-1):\n",
    "    locals()['CNN3D_prol_'+str(2**i)] = keras.models.Sequential([\n",
    "         keras.layers.InputLayer(input_shape=(1*2**i, 1*2**i, 1)),\n",
    "         tf.keras.layers.UpSampling2D(size=(2, 2)),\n",
    "    ])"
   ]
  },
  {
   "cell_type": "markdown",
   "id": "8e1a2144",
   "metadata": {
    "id": "8e1a2144"
   },
   "source": [
    "# Functions linking to the AI libraries"
   ]
  },
  {
   "cell_type": "code",
   "execution_count": 14,
   "id": "6efde319",
   "metadata": {
    "executionInfo": {
     "elapsed": 2,
     "status": "ok",
     "timestamp": 1671026423395,
     "user": {
      "displayName": "boyang chen",
      "userId": "06142203300109756904"
     },
     "user_tz": 0
    },
    "id": "6efde319"
   },
   "outputs": [],
   "source": [
    "def boundary_condition_velocity(values_u,values_v,nx):\n",
    "    'Define boundary conditions for velocity field'\n",
    "    tempu = tf.Variable(values_u)\n",
    "    tempv = tf.Variable(values_v)   \n",
    "    tempu[0,:,0,0].assign(tf.Variable(values_u)[0,:,1,0]) \n",
    "    tempv[0,:,0,0].assign(tf.Variable(values_v)[0,:,1,0])    \n",
    "\n",
    "    tempu[0,:,nx-1,0].assign(tf.Variable(values_u)[0,:,nx-2,0]) \n",
    "    tempv[0,:,nx-1,0].assign(tf.Variable(values_v)[0,:,nx-2,0])   \n",
    "        \n",
    "    tempu[0,0,:,0].assign(tf.Variable(values_u)[0,1,:,0])     \n",
    "    tempv[0,0,:,0].assign(tf.Variable(values_v)[0,1,:,0])  \n",
    "        \n",
    "    tempu[0,nx-1,:,0].assign(tf.Variable(values_u)[0,nx-2,:,0])      \n",
    "    tempv[0,nx-1,:,0].assign(tf.Variable(values_v)[0,nx-2,:,0])     \n",
    "    return tempu,tempv\n",
    "\n",
    "def boundary_condition_pressure(values_p,nx):\n",
    "    'Define boundary conditions for pressure field'\n",
    "    tempp = tf.Variable(values_p)   \n",
    "#     tempp[0,:,:,nx-1,0].assign(tf.Variable(tf.zeros((1,nx,nx)))[0,:]) \n",
    "    tempp[0,:,nx-1,0].assign(tf.Variable(values_p)[0,:,nx-2,0]) \n",
    "    tempp[0,:,0,0].assign(tf.Variable(values_p)[0,:,1,0])\n",
    "    \n",
    "    tempp[0,nx-1,:,0].assign(tf.Variable(values_p)[0,nx-2,:,0])     \n",
    "#     tempp[0,0,:,0].assign(tf.Variable(values_p)[0,1,:,0])\n",
    "    tempp[0,0,:,0].assign(tf.Variable(tf.ones((1,nx)))[0,:]*10*1000*-1) \n",
    "    return tempp\n",
    "\n",
    "def boundary_condition_indicator(alpha,nx):   \n",
    "    'Define boundary conditions for scalar field'\n",
    "    tempa = tf.Variable(alpha)   \n",
    "    tempa[0,:,nx-1,0].assign(tf.Variable(alpha)[0,:,nx-2,0]) \n",
    "    tempa[0,:,0,0].assign(tf.Variable(alpha)[0,:,1,0])\n",
    "    \n",
    "    tempa[0,0,:,0].assign(tf.Variable(alpha)[0,1,:,0])     \n",
    "    tempa[0,nx-1,:,0].assign(tf.Variable(alpha)[0,nx-2,:,0]) \n",
    "    return tempa\n",
    "\n",
    "def boundary_condition_source(b,nx):  \n",
    "    'Define inflow boundary conditions for source terms to'\n",
    "    'avoid incorrect paddings caused by CNNs'\n",
    "    tempb = tf.Variable(b)   \n",
    "    tempb[0,0,:,0].assign(tf.Variable(b)[0,1,:,0]*0)\n",
    "    tempb[0,nx-1,:,0].assign(tf.Variable(b)[0,nx-2,:,0]*0)\n",
    "    tempb[0,:,nx-1,0].assign(tf.Variable(b)[0,:,nx-2,0]*0)\n",
    "    tempb[0,:,0,0].assign(tf.Variable(b)[0,:,1,0]*0)\n",
    "    return tempb\n",
    "\n",
    "def bluff_body(values_u,values_v,alpha,sigma):\n",
    "    'Immersed Boundary for buildings'\n",
    "    temp1 = values_u / (1+dt*sigma) \n",
    "    temp2 = values_v / (1+dt*sigma)\n",
    "    # temp3 = values_w / (1+dt*sigma) \n",
    "    temp4 = alpha / (1+dt*sigma)\n",
    "    return temp1,temp2,temp4\n",
    "\n",
    "def save_data(alpha,n_out,itime):\n",
    "    'Save field data'\n",
    "    if itime % n_out == 0:  \n",
    "        np.save(\"data_SK_tracer/alpha\"+str(itime), arr=alpha[0,:,:,:,0])\n",
    "        np.save(\"data_SK_tracer/v\"+str(itime), arr=values_v[0,:,:,:,0])\n",
    "        np.save(\"data_SK_tracer/w\"+str(itime), arr=values_w[0,:,:,:,0])\n",
    "        np.save(\"data_SK_tracer/p\"+str(itime), arr=values_p[0,:,:,:,0])"
   ]
  },
  {
   "cell_type": "code",
   "execution_count": 15,
   "id": "qfBgOAF-acP5",
   "metadata": {
    "executionInfo": {
     "elapsed": 374,
     "status": "ok",
     "timestamp": 1671026426121,
     "user": {
      "displayName": "boyang chen",
      "userId": "06142203300109756904"
     },
     "user_tz": 0
    },
    "id": "qfBgOAF-acP5"
   },
   "outputs": [],
   "source": [
    "def PG_turb_vector(values_u, values_v, eplsion_k):    \n",
    "    '''Turbulence modelling using Petrov-Galerkin dissipation       \n",
    "    Input\n",
    "    ---------------------------------------------------------------------\n",
    "    values_u: u-component velocity \n",
    "    values_v: v-component velocity \n",
    "    values_w: w-component velocity \n",
    "    eplsion_k: Need to sufficiently large\n",
    "    \n",
    "    Output\n",
    "    ---------------------------------------------------------------------\n",
    "    k_x: Final diffusion matrix in x direction \n",
    "    k_y: Final diffusion matrix in y direction \n",
    "    k_z: Final diffusion matrix in z direction \n",
    "    '''\n",
    "\n",
    "    k_u = 0.4 * 0.25 * abs(1/3*\n",
    "                               (abs(values_u) + abs(values_v)) * \n",
    "                               CNN3D_central_2nd_dif(values_u)) / (eplsion_k + \n",
    "                               (abs(CNN3D_central_2nd_xadv(values_u)) + \n",
    "                               abs(CNN3D_central_2nd_yadv(values_u)))/3)\n",
    "    \n",
    "    k_v = 0.4 * 0.25 * abs(1/3*\n",
    "                               (abs(values_u) + abs(values_v)) * \n",
    "                               CNN3D_central_2nd_dif(values_v)) / (eplsion_k + \n",
    "                               (abs(CNN3D_central_2nd_xadv(values_v)) + \n",
    "                               abs(CNN3D_central_2nd_yadv(values_v)))/3)\n",
    "  \n",
    "    k_u = tf.math.minimum(k_u, tf.ones(input_shape)*0.25/dt) \n",
    "    k_v = tf.math.minimum(k_v, tf.ones(input_shape)*0.25/dt)   \n",
    "    \n",
    "    k_x = 3*0.5*(k_u*CNN3D_central_2nd_dif(values_u) +\n",
    "                CNN3D_central_2nd_dif(values_u*k_u) -\n",
    "                values_u*CNN3D_central_2nd_dif(k_u))\n",
    "\n",
    "    k_y = 3*0.5*(k_v*CNN3D_central_2nd_dif(values_v) + \n",
    "                CNN3D_central_2nd_dif(values_v*k_v) -\n",
    "                values_v*CNN3D_central_2nd_dif(k_v))\n",
    "\n",
    "    return k_x, k_y"
   ]
  },
  {
   "cell_type": "code",
   "execution_count": 16,
   "id": "7e3b3f26",
   "metadata": {
    "executionInfo": {
     "elapsed": 620,
     "status": "ok",
     "timestamp": 1671029710797,
     "user": {
      "displayName": "boyang chen",
      "userId": "06142203300109756904"
     },
     "user_tz": 0
    },
    "id": "7e3b3f26"
   },
   "outputs": [],
   "source": [
    "def PG_turb_scalar(alpha, values_u, values_v, eplsion_k):    \n",
    "    '''Turbulence modelling using Petrov-Galerkin dissipation       \n",
    "    Input\n",
    "    ---------------------------------------------------------------------\n",
    "    values_u: u-component velocity \n",
    "    values_v: v-component velocity \n",
    "    values_w: w-component velocity \n",
    "    eplsion_k: Need to sufficiently large\n",
    "    \n",
    "    Output\n",
    "    ---------------------------------------------------------------------\n",
    "    k_alpha: Final diffusion matrix in x direction \n",
    "    '''\n",
    "    alpha_x = CNN3D_central_2nd_xadv(alpha)  \n",
    "    alpha_y = CNN3D_central_2nd_yadv(alpha)  \n",
    "\n",
    "    Sx = CNN3D_wxu(alpha)*CNN3D_wxd(alpha)\n",
    "    Sy = CNN3D_wyu(alpha)*CNN3D_wyd(alpha)\n",
    "\n",
    "    Sx = tf.where((tf.less(Sx,tf.zeros(input_shape))),-tf.ones(input_shape),Sx)  \n",
    "    Sy = tf.where((tf.less(Sy,tf.zeros(input_shape))),-tf.ones(input_shape),Sy)   \n",
    "\n",
    "    wx_u = -tf.math.maximum(tf.ones(input_shape)*-1, tf.math.minimum(tf.zeros(input_shape),Sx))\n",
    "    wx_d = tf.math.maximum(tf.ones(input_shape)*-1, tf.math.minimum(tf.zeros(input_shape),Sx))\n",
    "    wy_u = -tf.math.maximum(tf.ones(input_shape)*-1, tf.math.minimum(tf.zeros(input_shape),Sy))\n",
    "    wy_d = tf.math.maximum(tf.ones(input_shape)*-1, tf.math.minimum(tf.zeros(input_shape),Sy))    \n",
    "\n",
    "    scaling_x = alpha_x*(values_u*alpha_x+values_v*alpha_y)/\\\n",
    "    (eplsion_k+alpha_x**2+alpha_y**2)\n",
    "\n",
    "    scaling_y = alpha_y*(values_u*alpha_x+values_v*alpha_y)/\\\n",
    "    (eplsion_k+alpha_x**2+alpha_y**2)\n",
    " \n",
    "\n",
    "    k_u = 300*abs(1/2*(abs(values_u)+abs(values_v))*CNN3D_central_2nd_dif(alpha))/\\\n",
    "    (eplsion_k+(abs(alpha_x)+abs(alpha_y))/2)\n",
    "\n",
    "    k_d = -0.25*(values_u**2+values_v**2)/\\\n",
    "    (eplsion_k+scaling_x**2+scaling_y**2)**0.5\n",
    "\n",
    "    k_x = wx_d*k_d+wx_u*k_u\n",
    "    k_y = wy_d*k_d+wy_u*k_u\n",
    "\n",
    "    k_xf = tf.math.minimum(k_x,tf.ones(input_shape)*0.25/dt,(values_u**2+values_v**2)**0.5)\n",
    "    k_yf = tf.math.minimum(k_y,tf.ones(input_shape)*0.25/dt,(values_u**2+values_v**2)**0.5)\n",
    "\n",
    "    k_alpha = 0.5*(k_xf*CNN3D_central_2nd_dif(alpha)+\n",
    "                   CNN3D_central_2nd_dif(alpha*k_xf)-\n",
    "                   alpha*CNN3D_central_2nd_dif(k_xf))+\\\n",
    "              0.5*(k_yf*CNN3D_central_2nd_dif(alpha)+\n",
    "                   CNN3D_central_2nd_dif(alpha*k_yf)-\n",
    "                   alpha*CNN3D_central_2nd_dif(k_yf))                 \n",
    "    return k_alpha,alpha_x,alpha_y,scaling_x,scaling_y,k_u,k_d,Sx,Sy,k_x,k_y,k_xf,k_yf"
   ]
  },
  {
   "cell_type": "markdown",
   "id": "600283ce",
   "metadata": {
    "id": "600283ce"
   },
   "source": [
    "# Initialise"
   ]
  },
  {
   "cell_type": "code",
   "execution_count": 24,
   "id": "6e601369",
   "metadata": {
    "colab": {
     "base_uri": "https://localhost:8080/"
    },
    "executionInfo": {
     "elapsed": 1000,
     "status": "ok",
     "timestamp": 1671029714013,
     "user": {
      "displayName": "boyang chen",
      "userId": "06142203300109756904"
     },
     "user_tz": 0
    },
    "id": "6e601369",
    "outputId": "62f68648-966f-4db8-b70f-ab274e9294be"
   },
   "outputs": [
    {
     "name": "stdout",
     "output_type": "stream",
     "text": [
      "============== Numerical parameters ===============\n",
      "Mesh resolution: (1, 128, 128, 1)\n",
      "Time step: 100\n",
      "Initial time: 0\n",
      "Switch on scalar filed solver!\n",
      "Solving multiphase flows!\n"
     ]
    }
   ],
   "source": [
    "#################### Create field #####£###############\n",
    "input_shape = (1,nx,ny,1)\n",
    "values_u = tf.ones(input_shape)\n",
    "values_v = tf.zeros(input_shape)\n",
    "# values_w = tf.zeros(input_shape)\n",
    "# values_p = tf.zeros(input_shape)\n",
    "#######################################################\n",
    "################# Numerical parameters ################\n",
    "multi_itr = 100               # Iterations of multi-grid \n",
    "j_itr = 1                   # Iterations of Jacobi \n",
    "ntime = 100                # Time steps\n",
    "n_out = 200                 # Results output\n",
    "nrestart = 0                # Last time step for restart\n",
    "ctime_old = 0               # Last ctime for restart\n",
    "mgsolver = False             # Multigrid solver\n",
    "LSCALAR = True              # Scalar transport \n",
    "LMTI = True                 # Non density for multiphase flows\n",
    "LIBM = False                # Immersed boundary method \n",
    "nsafe = 0.5                 # Continuty equation residuals\n",
    "ctime = 0                   # Initialise ctime   \n",
    "save_fig = False             # Save results\n",
    "Restart = False             # Restart\n",
    "eplsion_k = 1e-03\n",
    "################# Physical parameters #################\n",
    "rho_l = 1000               # Density of liquid phase \n",
    "rho_g = 1000                # Density of gas phase \n",
    "g_x = 0;g_y = 0;g_z = -10   # Gravity acceleration (m/s2) \n",
    "#######################################################\n",
    "print('============== Numerical parameters ===============')\n",
    "print('Mesh resolution:', values_v.shape)\n",
    "print('Time step:', ntime)\n",
    "print('Initial time:', ctime)\n",
    "#######################################################\n",
    "################# Only for restart ####################\n",
    "if Restart == True:\n",
    "    temp1 = np.load('data_SK/u2500.npy').astype('float32')\n",
    "    temp2 = np.load('data_SK/v2500.npy').astype('float32')\n",
    "    temp3 = np.load('data_SK/w2500.npy').astype('float32')\n",
    "    temp4 = np.load('data_SK/p2500.npy').astype('float32')\n",
    "    values_u = tf.Variable(values_u)[0,:,:,:,0].assign(tf.convert_to_tensor(temp1))\n",
    "    values_v = tf.Variable(values_v)[0,:,:,:,0].assign(tf.convert_to_tensor(temp2))\n",
    "    values_w = tf.Variable(values_w)[0,:,:,:,0].assign(tf.convert_to_tensor(temp3))\n",
    "    values_p = tf.Variable(values_p)[0,:,:,:,0].assign(tf.convert_to_tensor(temp4))\n",
    "    nrestart = 2500\n",
    "    ctime_old = nrestart*dt\n",
    "    print('Restart solver!')\n",
    "#######################################################    \n",
    "################# Only for scalar #####################\n",
    "if LSCALAR == True:\n",
    "    alpha = np.zeros(input_shape).astype('float32')\n",
    "    alpha[0,44:84,44:84,0] = 1.0\n",
    "#     alpha[0,64:128,:,:,0] = 1.0\n",
    "    alpha = tf.convert_to_tensor(alpha)\n",
    "    print('Switch on scalar filed solver!')\n",
    "#######################################################\n",
    "################# Only for scalar #####################\n",
    "if LMTI == True:\n",
    "    rho = tf.zeros(input_shape)\n",
    "    rho = alpha*rho_l + (1-alpha)*rho_g\n",
    "    print('Solving multiphase flows!')\n",
    "else:\n",
    "    rho = tf.ones(input_shape)\n",
    "    print('Solving single-phase flows!')\n",
    "################# Only for IBM ########################\n",
    "if LIBM == True:\n",
    "    mesh = np.load('mesh_512_sk.npy')\n",
    "    sigma = np.zeros(input_shape).astype('float32')\n",
    "    for i in range(1,nx-1):\n",
    "        for j in range(1,ny-1):\n",
    "            for k in range(1,nz-1):\n",
    "                if mesh[0][i+64][j+64][k][0] == 0:\n",
    "                    sigma[0][k][j][i][0] = 100000  \n",
    "    sigma = tf.convert_to_tensor(sigma)\n",
    "    print('Switch on IBM solver!')\n",
    "    print('===================================================')\n",
    "    plt.imshow(sigma[0,1,:,:,0], cmap='jet')\n",
    "    plt.colorbar()\n",
    "    plt.title('South Kensington area')\n",
    "#######################################################"
   ]
  },
  {
   "cell_type": "markdown",
   "id": "8ec18299",
   "metadata": {},
   "source": [
    "# Initial condition"
   ]
  },
  {
   "cell_type": "code",
   "execution_count": 18,
   "id": "138298d5",
   "metadata": {},
   "outputs": [
    {
     "data": {
      "text/plain": [
       "Text(0.5, 1.0, 'Initial field')"
      ]
     },
     "execution_count": 18,
     "metadata": {},
     "output_type": "execute_result"
    },
    {
     "data": {
      "image/png": "[encoded data removed]",
      "text/plain": [
       "<Figure size 432x288 with 2 Axes>"
      ]
     },
     "metadata": {
      "needs_background": "light"
     },
     "output_type": "display_data"
    }
   ],
   "source": [
    "plt.imshow(alpha[0,:,:,0], cmap='jet')\n",
    "plt.colorbar()\n",
    "plt.gca().invert_yaxis()\n",
    "plt.title('Initial field', fontsize=20)"
   ]
  },
  {
   "cell_type": "markdown",
   "id": "8d42be2a",
   "metadata": {},
   "source": [
    "# Advection-Diffusion case"
   ]
  },
  {
   "cell_type": "code",
   "execution_count": 19,
   "id": "1a2b5e8c",
   "metadata": {},
   "outputs": [],
   "source": [
    "for itime in range(1,ntime+1): \n",
    "    a_t = CNN3D_central_2nd_dif(alpha)*dt - \\\n",
    "    CNN3D_central_2nd_xadv(values_u*alpha)*dt - \\\n",
    "    CNN3D_central_2nd_yadv(values_v*alpha)*dt \n",
    "    alpha = alpha + a_t*0.5\n",
    "\n",
    "    a_t = CNN3D_central_2nd_dif(alpha)*dt - \\\n",
    "    CNN3D_central_2nd_xadv(values_u*alpha)*dt - \\\n",
    "    CNN3D_central_2nd_yadv(values_v*alpha)*dt \n",
    "    alpha = alpha + a_t"
   ]
  },
  {
   "cell_type": "code",
   "execution_count": 20,
   "id": "c3473bc8",
   "metadata": {},
   "outputs": [
    {
     "data": {
      "text/plain": [
       "Text(0.5, 1.0, 'Advection-diffusion')"
      ]
     },
     "execution_count": 20,
     "metadata": {},
     "output_type": "execute_result"
    },
    {
     "data": {
      "image/png": "[encoded data removed]",
      "text/plain": [
       "<Figure size 432x288 with 2 Axes>"
      ]
     },
     "metadata": {
      "needs_background": "light"
     },
     "output_type": "display_data"
    }
   ],
   "source": [
    "plt.imshow(alpha[0,:,:,0], cmap='jet')\n",
    "plt.colorbar()\n",
    "plt.gca().invert_yaxis()\n",
    "plt.title('Advection-diffusion', fontsize=20)"
   ]
  },
  {
   "cell_type": "markdown",
   "id": "dc179bf4",
   "metadata": {},
   "source": [
    "# Pure advection case "
   ]
  },
  {
   "cell_type": "code",
   "execution_count": 22,
   "id": "4413133d",
   "metadata": {},
   "outputs": [],
   "source": [
    "for itime in range(1,ntime+1): \n",
    "    a_t = 0*CNN3D_central_2nd_dif(alpha)*dt - \\\n",
    "    CNN3D_central_2nd_xadv(values_u*alpha)*dt - \\\n",
    "    CNN3D_central_2nd_yadv(values_v*alpha)*dt \n",
    "    alpha = alpha + a_t*0.5\n",
    "\n",
    "    a_t = 0*CNN3D_central_2nd_dif(alpha)*dt - \\\n",
    "    CNN3D_central_2nd_xadv(values_u*alpha)*dt - \\\n",
    "    CNN3D_central_2nd_yadv(values_v*alpha)*dt \n",
    "    alpha = alpha + a_t"
   ]
  },
  {
   "cell_type": "code",
   "execution_count": 23,
   "id": "943b5cc7",
   "metadata": {},
   "outputs": [
    {
     "data": {
      "text/plain": [
       "Text(0.5, 1.0, 'Pure advection')"
      ]
     },
     "execution_count": 23,
     "metadata": {},
     "output_type": "execute_result"
    },
    {
     "data": {
      "image/png": "[encoded data removed]",
      "text/plain": [
       "<Figure size 432x288 with 2 Axes>"
      ]
     },
     "metadata": {
      "needs_background": "light"
     },
     "output_type": "display_data"
    }
   ],
   "source": [
    "plt.imshow(alpha[0,:,:,0], cmap='jet')\n",
    "plt.colorbar()\n",
    "plt.gca().invert_yaxis()\n",
    "plt.title('Pure advection', fontsize=20)"
   ]
  },
  {
   "cell_type": "markdown",
   "id": "77770953",
   "metadata": {},
   "source": [
    "# Pure advection case with compressive interface tracking"
   ]
  },
  {
   "cell_type": "code",
   "execution_count": 25,
   "id": "339885be",
   "metadata": {},
   "outputs": [],
   "source": [
    "for itime in range(1,ntime+1): \n",
    "    [k_alpha,alpha_x,alpha_y,scaling_x,scaling_y,k_u,k_d,Sx,Sy,k_x,k_y,k_xf,k_yf] = PG_turb_scalar(alpha, values_u, values_v, eplsion_k)\n",
    "    a_t = k_alpha*dt - \\\n",
    "    CNN3D_central_2nd_xadv(values_u*alpha)*dt - \\\n",
    "    CNN3D_central_2nd_yadv(values_v*alpha)*dt \n",
    "    alpha = alpha + a_t*0.5\n",
    "\n",
    "    [k_alpha,alpha_x,alpha_y,scaling_x,scaling_y,k_u,k_d,Sx,Sy,k_x,k_y,k_xf,k_yf] = PG_turb_scalar(alpha, values_u, values_v, eplsion_k)\n",
    "    a_t = k_alpha*dt - \\\n",
    "    CNN3D_central_2nd_xadv(values_u*alpha)*dt - \\\n",
    "    CNN3D_central_2nd_yadv(values_v*alpha)*dt \n",
    "    alpha = alpha + a_t"
   ]
  },
  {
   "cell_type": "code",
   "execution_count": 26,
   "id": "2999e814",
   "metadata": {},
   "outputs": [
    {
     "data": {
      "text/plain": [
       "Text(0.5, 1.0, 'Compressive-advection')"
      ]
     },
     "execution_count": 26,
     "metadata": {},
     "output_type": "execute_result"
    },
    {
     "data": {
      "image/png": "[encoded data removed]",
      "text/plain": [
       "<Figure size 432x288 with 2 Axes>"
      ]
     },
     "metadata": {
      "needs_background": "light"
     },
     "output_type": "display_data"
    }
   ],
   "source": [
    "plt.imshow(alpha[0,:,:,0], cmap='jet')\n",
    "plt.colorbar()\n",
    "plt.gca().invert_yaxis()\n",
    "plt.title('Compressive-advection', fontsize=20)"
   ]
  },
  {
   "cell_type": "code",
   "execution_count": null,
   "id": "67e2af30",
   "metadata": {},
   "outputs": [],
   "source": []
  }
 ],
 "metadata": {
  "accelerator": "GPU",
  "colab": {
   "provenance": []
  },
  "gpuClass": "standard",
  "kernelspec": {
   "display_name": "Python 3",
   "language": "python",
   "name": "python3"
  },
  "language_info": {
   "codemirror_mode": {
    "name": "ipython",
    "version": 3
   },
   "file_extension": ".py",
   "mimetype": "text/x-python",
   "name": "python",
   "nbconvert_exporter": "python",
   "pygments_lexer": "ipython3",
   "version": "3.7.12"
  }
 },
 "nbformat": 4,
 "nbformat_minor": 5
}
